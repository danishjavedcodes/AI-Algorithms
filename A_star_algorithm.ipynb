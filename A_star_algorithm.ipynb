{
 "cells": [
  {
   "cell_type": "code",
   "execution_count": 27,
   "id": "af03afb6",
   "metadata": {},
   "outputs": [],
   "source": [
    "from queue import PriorityQueue\n",
    "\n",
    "def A_star(graph, huristics, start, goal):\n",
    "    # Create a priority queue to keep track of nodes to be visited\n",
    "    queue = PriorityQueue()\n",
    "    # Add the starting node to the queue with a priority of 0\n",
    "    queue.put((0, start))\n",
    "    # Create dictionaries to keep track of the parent node and the cost to reach each node\n",
    "    parent_map = {}\n",
    "    cost_map = {}\n",
    "    # Set the starting node's parent to None and its cost to 0\n",
    "    parent_map[start] = None\n",
    "    cost_map[start] = 0\n",
    "    \n",
    "    # While the queue is not empty\n",
    "    while not queue.empty():\n",
    "        # Get the node with the lowest priority (lowest cost so far)\n",
    "        current_cost, current_node = queue.get()\n",
    "        # If we have reached the goal node, stop the search\n",
    "        if current_node == goal:\n",
    "            break\n",
    "        # For each neighbor of the current node\n",
    "        for neighbor_node, weight in graph[current_node].items():\n",
    "            # Calculate the cost to reach the neighbor through the current node\n",
    "            new_cost = cost_map[current_node] + weight\n",
    "            # If we haven't seen this neighbor before, or if we have found a shorter path to the neighbor\n",
    "            if neighbor_node not in cost_map or new_cost < cost_map[neighbor_node]:\n",
    "                # Update the cost to reach the neighbor and its priority in the queue\n",
    "                cost_map[neighbor_node] = new_cost\n",
    "                priority = new_cost + huristics[neighbor_node]\n",
    "                queue.put((priority, neighbor_node))\n",
    "                # Update the parent of the neighbor to be the current node\n",
    "                parent_map[neighbor_node] = current_node\n",
    "    \n",
    "    # Construct the shortest path from the start to the goal node\n",
    "    path = []\n",
    "    current_node = goal\n",
    "    while current_node != start:\n",
    "        path.append(current_node)\n",
    "        current_node = parent_map[current_node]\n",
    "    path.append(start)\n",
    "    path.reverse()\n",
    "    \n",
    "    # Return the shortest path and its cost\n",
    "    return path, cost_map[goal]\n"
   ]
  },
  {
   "cell_type": "code",
   "execution_count": 28,
   "id": "1ae88a6c",
   "metadata": {},
   "outputs": [
    {
     "name": "stdout",
     "output_type": "stream",
     "text": [
      "Shortest path from A to G: ['A', 'C', 'G']\n",
      "Shortest cost from A to G: 5\n"
     ]
    }
   ],
   "source": [
    "graph = {\n",
    "    'A': {'B': 10, 'C': 3},\n",
    "    'B': {'D': 2, 'E': 7},\n",
    "    'C': {'D': 9, 'G': 2},\n",
    "    'D': {'E': 1, 'F': 4},\n",
    "    'E': {'F': 5},\n",
    "    'F': {'G': 1},\n",
    "    'G': {}\n",
    "}\n",
    "\n",
    "heuristics = {\n",
    "    'A': 10,\n",
    "    'B': 8,\n",
    "    'C': 7,\n",
    "    'D': 6,\n",
    "    'E': 4,\n",
    "    'F': 3,\n",
    "    'G': 0\n",
    "}\n",
    "\n",
    "start_node = 'A'\n",
    "goal_node = 'G'\n",
    "\n",
    "shortest_path, shortest_cost = A_star(graph, heuristics, start_node, goal_node)\n",
    "\n",
    "print(f\"Shortest path from {start_node} to {goal_node}: {shortest_path}\")\n",
    "print(f\"Shortest cost from {start_node} to {goal_node}: {shortest_cost}\")\n"
   ]
  },
  {
   "cell_type": "code",
   "execution_count": null,
   "id": "4e44671f",
   "metadata": {},
   "outputs": [],
   "source": []
  }
 ],
 "metadata": {
  "kernelspec": {
   "display_name": "Python 3 (ipykernel)",
   "language": "python",
   "name": "python3"
  },
  "language_info": {
   "codemirror_mode": {
    "name": "ipython",
    "version": 3
   },
   "file_extension": ".py",
   "mimetype": "text/x-python",
   "name": "python",
   "nbconvert_exporter": "python",
   "pygments_lexer": "ipython3",
   "version": "3.9.12"
  }
 },
 "nbformat": 4,
 "nbformat_minor": 5
}
