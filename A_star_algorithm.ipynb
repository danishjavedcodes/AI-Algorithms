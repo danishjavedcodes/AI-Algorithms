{
 "cells": [
  {
   "cell_type": "code",
   "execution_count": 23,
   "id": "1d8b2729",
   "metadata": {},
   "outputs": [],
   "source": [
    "from queue import PriorityQueue\n",
    "\n",
    "def A_star(graph, huristics, start, goal):\n",
    "    queue = PriorityQueue()\n",
    "    queue.put((0, start))\n",
    "    parent_map = {}\n",
    "    cost_map = {}\n",
    "    parent_map[start] = None\n",
    "    cost_map[start] = 0\n",
    "    \n",
    "    while not queue.empty():\n",
    "        current_cost, current_node = queue.get()\n",
    "        if current_node == goal:\n",
    "            break\n",
    "        for neighbor_node, weight in graph[current_node].items():\n",
    "            new_cost = cost_map[current_node] + weight\n",
    "            if neighbor_node not in cost_map or new_cost < cost_map[neighbor_node]:\n",
    "                cost_map[neighbor_node] = new_cost\n",
    "                priority = new_cost + huristics[neighbor_node]\n",
    "                queue.put((priority, neighbor_node))\n",
    "                parent_map[neighbor_node] = current_node\n",
    "    \n",
    "    path = []\n",
    "    current_node = goal\n",
    "    while current_node != start:\n",
    "        path.append(current_node)\n",
    "        current_node = parent_map[current_node]\n",
    "    path.append(start)\n",
    "    path.reverse()\n",
    "    \n",
    "    return path, cost_map[goal]\n"
   ]
  },
  {
   "cell_type": "code",
   "execution_count": 24,
   "id": "d3e87308",
   "metadata": {},
   "outputs": [
    {
     "name": "stdout",
     "output_type": "stream",
     "text": [
      "Shortest path from A to G: ['A', 'C', 'G']\n",
      "Shortest cost from A to G: 5\n"
     ]
    }
   ],
   "source": [
    "graph = {\n",
    "    'A': {'B': 10, 'C': 3},\n",
    "    'B': {'D': 2, 'E': 7},\n",
    "    'C': {'D': 9, 'G': 2},\n",
    "    'D': {'E': 1, 'F': 4},\n",
    "    'E': {'F': 5},\n",
    "    'F': {'G': 1},\n",
    "    'G': {}\n",
    "}\n",
    "\n",
    "heuristics = {\n",
    "    'A': 10,\n",
    "    'B': 8,\n",
    "    'C': 7,\n",
    "    'D': 6,\n",
    "    'E': 4,\n",
    "    'F': 3,\n",
    "    'G': 0\n",
    "}\n",
    "\n",
    "start_node = 'A'\n",
    "goal_node = 'G'\n",
    "\n",
    "shortest_path, shortest_cost = A_star(graph, heuristics, start_node, goal_node)\n",
    "\n",
    "print(f\"Shortest path from {start_node} to {goal_node}: {shortest_path}\")\n",
    "print(f\"Shortest cost from {start_node} to {goal_node}: {shortest_cost}\")\n"
   ]
  }
 ],
 "metadata": {
  "kernelspec": {
   "display_name": "Python 3 (ipykernel)",
   "language": "python",
   "name": "python3"
  },
  "language_info": {
   "codemirror_mode": {
    "name": "ipython",
    "version": 3
   },
   "file_extension": ".py",
   "mimetype": "text/x-python",
   "name": "python",
   "nbconvert_exporter": "python",
   "pygments_lexer": "ipython3",
   "version": "3.9.12"
  }
 },
 "nbformat": 4,
 "nbformat_minor": 5
}
