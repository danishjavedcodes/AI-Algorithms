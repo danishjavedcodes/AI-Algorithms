{
 "cells": [
  {
   "cell_type": "code",
   "execution_count": 1,
   "metadata": {},
   "outputs": [
    {
     "name": "stdout",
     "output_type": "stream",
     "text": [
      "Question#2\n",
      "Most likely sequence of states: ['Good', 'Bad', 'Neutral', 'Good', 'Bad']\n",
      "Probability of the sequence: 0.0015876\n"
     ]
    }
   ],
   "source": [
    "print(\"Question#2\")\n",
    "\n",
    "initial_states=['A','C','B','A','C']\n",
    "initial_probabilities=[1,0,0]\n",
    "def viterbi(obs, states, start_p, trans_p, emit_p):\n",
    "    \"\"\"\n",
    "    Implementation of the Viterbi algorithm for a simple HMM with discrete observations.\n",
    "    Args:\n",
    "        obs: a list of observed symbols\n",
    "        states: a list of possible hidden states\n",
    "        start_p: a dictionary of initial state probabilities\n",
    "        trans_p: a dictionary of transition probabilities between states\n",
    "        emit_p: a dictionary of emission probabilities for each state-symbol pair\n",
    "    Returns:\n",
    "        A tuple containing the most likely sequence of hidden states and its probability.\n",
    "    \"\"\"\n",
    "    V = [{}]\n",
    "    for st in states:\n",
    "        V[0][st] = {\"prob\": start_p[st] * emit_p[st][obs[0]], \"prev\": None}\n",
    "    # Run Viterbi when t > 0\n",
    "    for t in range(1, len(obs)):\n",
    "        V.append({})\n",
    "        for st in states:\n",
    "            max_tr_prob = max(V[t-1][prev_st][\"prob\"]*trans_p[prev_st][st] for prev_st in states)\n",
    "            for prev_st in states:\n",
    "                if V[t-1][prev_st][\"prob\"] * trans_p[prev_st][st] == max_tr_prob:\n",
    "                    max_prob = max_tr_prob * emit_p[st][obs[t]]\n",
    "                    V[t][st] = {\"prob\": max_prob, \"prev\": prev_st}\n",
    "                    break\n",
    "    # Find the path with the highest probability\n",
    "    opt = []\n",
    "    max_prob = max(value[\"prob\"] for value in V[-1].values())\n",
    "    previous = None\n",
    "    for st, data in V[-1].items():\n",
    "        if data[\"prob\"] == max_prob:\n",
    "            opt.append(st)\n",
    "            previous = st\n",
    "            break\n",
    "    for t in range(len(V) - 2, -1, -1):\n",
    "        opt.insert(0, V[t + 1][previous][\"prev\"])\n",
    "        previous = V[t + 1][previous][\"prev\"]\n",
    "    return (opt, max_prob)\n",
    "obs = ['A', 'C', 'B','A', 'C']\n",
    "states = ['Good', 'Neutral','Bad']\n",
    "start_p = {'Good': 1, 'Neutral': 0,'Bad':0}\n",
    "trans_p =transition={\n",
    "    'Good':{'Good':0.2,'Neutral':0.3,'Bad':0.5},\n",
    "    'Neutral':{'Good':0.2,'Neutral':0.2,'Bad':0.6},\n",
    "    'Bad':{'Good':0.0,'Neutral':0.2,'Bad':0.8}\n",
    "}\n",
    "emit_p = {\n",
    "    'Good':{'A':0.7,'B':0.2,'C':0.1},\n",
    "    'Neutral':{'A':0.3,'B':0.4,'C':0.3},\n",
    "    'Bad':{'A':0.0,'B':0.1,'C':0.9}\n",
    "}\n",
    "\n",
    "result = viterbi(obs, states, start_p, trans_p, emit_p)\n",
    "print(\"Most likely sequence of states:\", result[0])\n",
    "print(\"Probability of the sequence:\", result[1])"
   ]
  },
  {
   "cell_type": "code",
   "execution_count": null,
   "metadata": {},
   "outputs": [],
   "source": []
  }
 ],
 "metadata": {
  "kernelspec": {
   "display_name": "Python 3",
   "language": "python",
   "name": "python3"
  },
  "language_info": {
   "codemirror_mode": {
    "name": "ipython",
    "version": 3
   },
   "file_extension": ".py",
   "mimetype": "text/x-python",
   "name": "python",
   "nbconvert_exporter": "python",
   "pygments_lexer": "ipython3",
   "version": "3.10.4"
  },
  "orig_nbformat": 4
 },
 "nbformat": 4,
 "nbformat_minor": 2
}
