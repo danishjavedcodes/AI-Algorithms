{
 "cells": [
  {
   "cell_type": "code",
   "execution_count": 1,
   "metadata": {
    "id": "w-GBoYBaWtsQ"
   },
   "outputs": [],
   "source": [
    "import pandas as pd\n",
    "\n",
    "from  sklearn.cluster import KMeans\n",
    "\n",
    "from sklearn.decomposition import PCA"
   ]
  },
  {
   "cell_type": "code",
   "execution_count": 3,
   "metadata": {
    "id": "S1MVBXRuW07F"
   },
   "outputs": [],
   "source": [
    "df = pd.read_csv('./titanic.csv')"
   ]
  },
  {
   "cell_type": "code",
   "execution_count": 4,
   "metadata": {
    "id": "U4q7WjFzW4kh"
   },
   "outputs": [],
   "source": [
    "df  = df.drop(columns='PassengerId')"
   ]
  },
  {
   "cell_type": "code",
   "execution_count": 29,
   "metadata": {
    "id": "X3OlRhLKW5-b"
   },
   "outputs": [],
   "source": [
    "from sklearn import preprocessing\n",
    "le = preprocessing.LabelEncoder()\n",
    "\n",
    "for i in df.columns:\n",
    "    df[i] = le.fit_transform(df[i])"
   ]
  },
  {
   "cell_type": "code",
   "execution_count": 30,
   "metadata": {
    "colab": {
     "base_uri": "https://localhost:8080/",
     "height": 129
    },
    "id": "jvApTB-vW7r9",
    "outputId": "e6a378af-f020-4ef1-95b2-c41adad77382"
   },
   "outputs": [
    {
     "data": {
      "text/plain": [
       "KMeans(n_clusters=4)"
      ]
     },
     "execution_count": 30,
     "metadata": {},
     "output_type": "execute_result"
    }
   ],
   "source": [
    "kmeans = KMeans(4)\n",
    "kmeans.fit(df)"
   ]
  },
  {
   "cell_type": "code",
   "execution_count": 13,
   "metadata": {
    "colab": {
     "base_uri": "https://localhost:8080/"
    },
    "id": "X-PFN4r2W-A8",
    "outputId": "8b856128-6b82-454f-8405-376cbbbd6d5b"
   },
   "outputs": [
    {
     "data": {
      "text/plain": [
       "array([0, 0, 0, 3, 0, 1, 1, 2, 0, 1, 2, 3, 2, 3, 2, 3, 2, 1, 1, 1, 3, 3,\n",
       "       1, 1, 2, 3, 3, 3, 1, 2, 2, 2, 3, 2, 2, 3, 1, 0, 1, 1, 0, 1, 2, 2,\n",
       "       3, 2, 2, 1, 1, 0, 1, 2, 0, 3, 1, 1, 2, 1, 2, 0, 1, 3, 0, 1, 2, 1,\n",
       "       2, 0, 3, 3, 0, 0, 0, 3, 3, 2, 2, 2, 3, 0, 1, 1, 1, 3, 0, 3, 0, 2,\n",
       "       3, 3, 3, 3, 0, 0, 0, 2, 0, 0, 3, 3, 2, 2, 2, 0, 3, 2, 1, 1, 2, 2,\n",
       "       1, 1, 3, 0, 3, 2, 0, 1, 0, 3, 0, 2, 1, 1, 2, 1, 2, 2, 1, 3, 0, 0,\n",
       "       2, 1, 2, 2, 1, 3, 2, 0, 3, 2, 0, 0, 3, 2, 0, 0, 1, 3, 0, 1, 2, 2,\n",
       "       2, 2, 0, 0, 1, 2, 0, 2, 3, 3, 1, 0, 3, 1, 0, 1, 1, 2, 0, 2, 1, 0,\n",
       "       2, 0, 3, 2, 2, 2, 3, 3, 3, 1, 2, 1, 0, 2, 1, 3, 0, 1, 0, 2, 2, 2,\n",
       "       2, 1, 1, 2, 3, 1, 0, 1, 3, 3, 0, 3, 0, 0, 2, 3, 0, 2, 0, 3, 3, 0,\n",
       "       2, 3, 3, 2, 3, 0, 2, 2, 3, 2, 0, 2, 1, 3, 2, 0, 3, 0, 1, 0, 1, 2,\n",
       "       0, 2, 3, 1, 2, 3, 3, 3, 2, 1, 1, 2, 2, 1, 2, 3, 2, 1, 2, 3, 1, 3,\n",
       "       0, 2, 1, 1, 0, 0, 3, 2, 1, 2, 0, 3, 2, 1, 2, 0, 3, 2, 1, 0, 1, 2,\n",
       "       1, 2, 3, 0, 3, 3, 2, 0, 2, 2, 3, 3, 1, 0, 0, 2, 0, 3, 2, 3, 3, 2,\n",
       "       0, 0, 3, 2, 3, 0, 0, 2, 3, 1, 2, 1, 0, 0, 1, 3, 2, 2, 1, 3, 0, 3,\n",
       "       2, 1, 0, 1, 0, 0, 1, 3, 0, 3, 1, 3, 3, 1, 3, 3, 1, 0, 0, 3, 2, 1,\n",
       "       3, 0, 1, 1, 3, 3, 1, 1, 1, 2, 3, 0, 2, 0, 1, 1, 3, 0, 3, 1, 3, 2,\n",
       "       2, 2, 2, 1, 3, 0, 0, 1, 2, 3, 2, 0, 0, 3, 2, 2, 3, 0, 3, 2, 2, 0,\n",
       "       2, 1, 1, 1, 2, 3, 0, 0, 1, 3, 1, 1, 3, 2, 2, 0, 1, 3, 2, 1, 3, 1,\n",
       "       1, 1, 0, 0, 1, 3, 2, 2, 3, 1, 0, 2, 3, 2, 2, 0, 1, 3, 0, 1, 3, 0,\n",
       "       0, 3, 1, 1, 0, 3, 1, 1, 3, 1, 2, 0, 3, 3, 2, 0, 1, 3, 2, 2, 3, 2,\n",
       "       3, 1, 2, 0, 3, 1, 2, 3, 3, 3, 2, 0, 2, 3, 1, 3, 0, 3, 0, 3, 2, 2,\n",
       "       3, 2, 3, 3, 2, 0, 0, 2, 1, 0, 2, 1, 0, 2, 3, 2, 3, 0, 1, 2, 1, 2,\n",
       "       1, 3, 2, 3, 0, 2, 2, 2, 0, 2, 2, 2, 3, 2, 1, 2, 1, 3, 3, 0, 2, 0,\n",
       "       1, 3, 1, 1, 3, 1, 3, 0, 3, 2, 2, 3, 0, 3, 3, 3, 0, 2, 3, 2, 0, 0,\n",
       "       1, 1, 1, 1, 2, 1, 3, 2, 1, 1, 2, 2, 1, 2, 2, 0, 1, 2, 3, 0, 0, 3,\n",
       "       0, 3, 2, 2, 3, 1, 3, 0, 3, 1, 3, 1, 1, 1, 3, 3, 3, 2, 2, 2, 0, 0,\n",
       "       0, 1, 1, 0, 3, 0, 3, 2, 3, 2, 3, 2, 0, 3, 2, 2, 3, 0, 2, 0, 0, 3,\n",
       "       3, 2, 3, 3, 1, 3, 1, 0, 0, 2, 3, 1, 0, 1, 3, 2, 1, 1, 1, 3, 2, 0,\n",
       "       1, 2, 0, 2, 1, 3, 3, 0, 0, 1, 2, 2, 2, 3, 0, 1, 0, 0, 2, 0, 3, 2,\n",
       "       0, 3, 0, 0, 2, 0, 3, 1, 0, 1, 3, 0, 2, 1, 1, 0, 1, 2, 0, 0, 1, 0,\n",
       "       2, 0, 3, 2, 1, 0, 0, 1, 3, 0, 3, 1, 1, 3, 0, 2, 1, 0, 0, 2, 3, 0,\n",
       "       0, 1, 3, 0, 3, 1, 2, 3, 1, 2, 3, 1, 0, 1, 2, 0, 3, 0, 3, 3, 3, 1,\n",
       "       1, 2, 3, 0, 3, 3, 3, 3, 1, 2, 0, 2, 0, 2, 3, 3, 2, 2, 2, 0, 0, 1,\n",
       "       1, 3, 1, 2, 1, 0, 3, 3, 0, 3, 2, 1, 0, 2, 3, 3, 3, 3, 3, 2, 2, 0,\n",
       "       1, 0, 2, 3, 3, 2, 2, 0, 0, 1, 3, 3, 1, 0, 0, 0, 1, 2, 0, 0, 3, 3,\n",
       "       2, 0, 0, 1, 1, 2, 3, 1, 1, 0, 3, 1, 0, 0, 3, 1, 1, 3, 3, 2, 1, 3,\n",
       "       2, 3, 0, 2, 0, 1, 3, 1, 1, 2, 1, 0, 3, 2, 2, 1, 1, 1, 1, 3, 3, 0,\n",
       "       1, 2, 3, 1, 0, 2, 1, 1, 3, 0, 2, 2, 3, 3, 3, 1, 3, 2, 3, 0, 2, 3,\n",
       "       3, 1, 0, 3, 1, 2, 3, 3, 0, 2, 1, 0, 0, 3, 0, 1, 0, 1, 0, 2, 2, 1,\n",
       "       1, 2, 0, 0, 2, 2, 1, 3, 0, 3, 0])"
      ]
     },
     "execution_count": 13,
     "metadata": {},
     "output_type": "execute_result"
    }
   ],
   "source": [
    "kmeans.labels_"
   ]
  },
  {
   "cell_type": "code",
   "execution_count": 15,
   "metadata": {
    "id": "E0YW1WdXW_Or"
   },
   "outputs": [],
   "source": [
    "df['clusters'] = kmeans.labels_"
   ]
  },
  {
   "cell_type": "code",
   "execution_count": 16,
   "metadata": {
    "colab": {
     "base_uri": "https://localhost:8080/",
     "height": 423
    },
    "id": "Rv7WfNZyfium",
    "outputId": "3d5da22b-700a-470a-e8b7-4869ab9dba15"
   },
   "outputs": [
    {
     "data": {
      "text/html": [
       "<div>\n",
       "<style scoped>\n",
       "    .dataframe tbody tr th:only-of-type {\n",
       "        vertical-align: middle;\n",
       "    }\n",
       "\n",
       "    .dataframe tbody tr th {\n",
       "        vertical-align: top;\n",
       "    }\n",
       "\n",
       "    .dataframe thead th {\n",
       "        text-align: right;\n",
       "    }\n",
       "</style>\n",
       "<table border=\"1\" class=\"dataframe\">\n",
       "  <thead>\n",
       "    <tr style=\"text-align: right;\">\n",
       "      <th></th>\n",
       "      <th>Survived</th>\n",
       "      <th>Pclass</th>\n",
       "      <th>Name</th>\n",
       "      <th>Sex</th>\n",
       "      <th>Age</th>\n",
       "      <th>SibSp</th>\n",
       "      <th>Parch</th>\n",
       "      <th>Ticket</th>\n",
       "      <th>Fare</th>\n",
       "      <th>Cabin</th>\n",
       "      <th>Embarked</th>\n",
       "      <th>clusters</th>\n",
       "    </tr>\n",
       "  </thead>\n",
       "  <tbody>\n",
       "    <tr>\n",
       "      <th>0</th>\n",
       "      <td>0</td>\n",
       "      <td>2</td>\n",
       "      <td>108</td>\n",
       "      <td>1</td>\n",
       "      <td>28</td>\n",
       "      <td>1</td>\n",
       "      <td>0</td>\n",
       "      <td>523</td>\n",
       "      <td>18</td>\n",
       "      <td>147</td>\n",
       "      <td>2</td>\n",
       "      <td>0</td>\n",
       "    </tr>\n",
       "    <tr>\n",
       "      <th>1</th>\n",
       "      <td>1</td>\n",
       "      <td>0</td>\n",
       "      <td>190</td>\n",
       "      <td>0</td>\n",
       "      <td>51</td>\n",
       "      <td>1</td>\n",
       "      <td>0</td>\n",
       "      <td>596</td>\n",
       "      <td>207</td>\n",
       "      <td>81</td>\n",
       "      <td>0</td>\n",
       "      <td>0</td>\n",
       "    </tr>\n",
       "    <tr>\n",
       "      <th>2</th>\n",
       "      <td>1</td>\n",
       "      <td>2</td>\n",
       "      <td>353</td>\n",
       "      <td>0</td>\n",
       "      <td>34</td>\n",
       "      <td>0</td>\n",
       "      <td>0</td>\n",
       "      <td>669</td>\n",
       "      <td>41</td>\n",
       "      <td>147</td>\n",
       "      <td>2</td>\n",
       "      <td>0</td>\n",
       "    </tr>\n",
       "    <tr>\n",
       "      <th>3</th>\n",
       "      <td>1</td>\n",
       "      <td>0</td>\n",
       "      <td>272</td>\n",
       "      <td>0</td>\n",
       "      <td>47</td>\n",
       "      <td>1</td>\n",
       "      <td>0</td>\n",
       "      <td>49</td>\n",
       "      <td>189</td>\n",
       "      <td>55</td>\n",
       "      <td>2</td>\n",
       "      <td>3</td>\n",
       "    </tr>\n",
       "    <tr>\n",
       "      <th>4</th>\n",
       "      <td>0</td>\n",
       "      <td>2</td>\n",
       "      <td>15</td>\n",
       "      <td>1</td>\n",
       "      <td>47</td>\n",
       "      <td>0</td>\n",
       "      <td>0</td>\n",
       "      <td>472</td>\n",
       "      <td>43</td>\n",
       "      <td>147</td>\n",
       "      <td>2</td>\n",
       "      <td>0</td>\n",
       "    </tr>\n",
       "    <tr>\n",
       "      <th>...</th>\n",
       "      <td>...</td>\n",
       "      <td>...</td>\n",
       "      <td>...</td>\n",
       "      <td>...</td>\n",
       "      <td>...</td>\n",
       "      <td>...</td>\n",
       "      <td>...</td>\n",
       "      <td>...</td>\n",
       "      <td>...</td>\n",
       "      <td>...</td>\n",
       "      <td>...</td>\n",
       "      <td>...</td>\n",
       "    </tr>\n",
       "    <tr>\n",
       "      <th>886</th>\n",
       "      <td>0</td>\n",
       "      <td>1</td>\n",
       "      <td>548</td>\n",
       "      <td>1</td>\n",
       "      <td>35</td>\n",
       "      <td>0</td>\n",
       "      <td>0</td>\n",
       "      <td>101</td>\n",
       "      <td>85</td>\n",
       "      <td>147</td>\n",
       "      <td>2</td>\n",
       "      <td>1</td>\n",
       "    </tr>\n",
       "    <tr>\n",
       "      <th>887</th>\n",
       "      <td>1</td>\n",
       "      <td>0</td>\n",
       "      <td>303</td>\n",
       "      <td>0</td>\n",
       "      <td>24</td>\n",
       "      <td>0</td>\n",
       "      <td>0</td>\n",
       "      <td>14</td>\n",
       "      <td>153</td>\n",
       "      <td>30</td>\n",
       "      <td>2</td>\n",
       "      <td>3</td>\n",
       "    </tr>\n",
       "    <tr>\n",
       "      <th>888</th>\n",
       "      <td>0</td>\n",
       "      <td>2</td>\n",
       "      <td>413</td>\n",
       "      <td>0</td>\n",
       "      <td>88</td>\n",
       "      <td>1</td>\n",
       "      <td>2</td>\n",
       "      <td>675</td>\n",
       "      <td>131</td>\n",
       "      <td>147</td>\n",
       "      <td>2</td>\n",
       "      <td>0</td>\n",
       "    </tr>\n",
       "    <tr>\n",
       "      <th>889</th>\n",
       "      <td>1</td>\n",
       "      <td>0</td>\n",
       "      <td>81</td>\n",
       "      <td>1</td>\n",
       "      <td>34</td>\n",
       "      <td>0</td>\n",
       "      <td>0</td>\n",
       "      <td>8</td>\n",
       "      <td>153</td>\n",
       "      <td>60</td>\n",
       "      <td>0</td>\n",
       "      <td>3</td>\n",
       "    </tr>\n",
       "    <tr>\n",
       "      <th>890</th>\n",
       "      <td>0</td>\n",
       "      <td>2</td>\n",
       "      <td>220</td>\n",
       "      <td>1</td>\n",
       "      <td>42</td>\n",
       "      <td>0</td>\n",
       "      <td>0</td>\n",
       "      <td>466</td>\n",
       "      <td>30</td>\n",
       "      <td>147</td>\n",
       "      <td>1</td>\n",
       "      <td>0</td>\n",
       "    </tr>\n",
       "  </tbody>\n",
       "</table>\n",
       "<p>891 rows × 12 columns</p>\n",
       "</div>"
      ],
      "text/plain": [
       "     Survived  Pclass  Name  Sex  Age  SibSp  Parch  Ticket  Fare  Cabin  \\\n",
       "0           0       2   108    1   28      1      0     523    18    147   \n",
       "1           1       0   190    0   51      1      0     596   207     81   \n",
       "2           1       2   353    0   34      0      0     669    41    147   \n",
       "3           1       0   272    0   47      1      0      49   189     55   \n",
       "4           0       2    15    1   47      0      0     472    43    147   \n",
       "..        ...     ...   ...  ...  ...    ...    ...     ...   ...    ...   \n",
       "886         0       1   548    1   35      0      0     101    85    147   \n",
       "887         1       0   303    0   24      0      0      14   153     30   \n",
       "888         0       2   413    0   88      1      2     675   131    147   \n",
       "889         1       0    81    1   34      0      0       8   153     60   \n",
       "890         0       2   220    1   42      0      0     466    30    147   \n",
       "\n",
       "     Embarked  clusters  \n",
       "0           2         0  \n",
       "1           0         0  \n",
       "2           2         0  \n",
       "3           2         3  \n",
       "4           2         0  \n",
       "..        ...       ...  \n",
       "886         2         1  \n",
       "887         2         3  \n",
       "888         2         0  \n",
       "889         0         3  \n",
       "890         1         0  \n",
       "\n",
       "[891 rows x 12 columns]"
      ]
     },
     "execution_count": 16,
     "metadata": {},
     "output_type": "execute_result"
    }
   ],
   "source": [
    "df"
   ]
  },
  {
   "cell_type": "code",
   "execution_count": 31,
   "metadata": {
    "id": "Ps1MSl46fjgU"
   },
   "outputs": [],
   "source": [
    "import matplotlib.pyplot as plt\n",
    "import seaborn as sns\n",
    "def visualize_clusters(cluster_column) :\n",
    "    for_x = all_data['pc1']\n",
    "    for_y = all_data['pc2']\n",
    "    sns.scatterplot(x=for_x, y=for_y, hue=cluster_column, \n",
    "                data=all_data, s=20);\n",
    "    plt.legend(loc='lower right');"
   ]
  },
  {
   "cell_type": "code",
   "execution_count": 32,
   "metadata": {
    "id": "uHr3kZDtf8SR"
   },
   "outputs": [],
   "source": [
    "pca = PCA(n_components=2)\n",
    "principalComponents = pca.fit_transform(df)"
   ]
  },
  {
   "cell_type": "code",
   "execution_count": 33,
   "metadata": {
    "id": "diXA65qsgNo2"
   },
   "outputs": [],
   "source": [
    "principalDf = pd.DataFrame(data = principalComponents, columns = ['pc1', 'pc2'])"
   ]
  },
  {
   "cell_type": "code",
   "execution_count": 34,
   "metadata": {
    "colab": {
     "base_uri": "https://localhost:8080/",
     "height": 423
    },
    "id": "CH2uhl2bgUSP",
    "outputId": "d8c96a48-e1df-4ef7-86eb-5940cd23abb6"
   },
   "outputs": [
    {
     "data": {
      "text/html": [
       "<div>\n",
       "<style scoped>\n",
       "    .dataframe tbody tr th:only-of-type {\n",
       "        vertical-align: middle;\n",
       "    }\n",
       "\n",
       "    .dataframe tbody tr th {\n",
       "        vertical-align: top;\n",
       "    }\n",
       "\n",
       "    .dataframe thead th {\n",
       "        text-align: right;\n",
       "    }\n",
       "</style>\n",
       "<table border=\"1\" class=\"dataframe\">\n",
       "  <thead>\n",
       "    <tr style=\"text-align: right;\">\n",
       "      <th></th>\n",
       "      <th>pc1</th>\n",
       "      <th>pc2</th>\n",
       "    </tr>\n",
       "  </thead>\n",
       "  <tbody>\n",
       "    <tr>\n",
       "      <th>0</th>\n",
       "      <td>-316.135539</td>\n",
       "      <td>-222.268523</td>\n",
       "    </tr>\n",
       "    <tr>\n",
       "      <th>1</th>\n",
       "      <td>-231.667380</td>\n",
       "      <td>-271.237922</td>\n",
       "    </tr>\n",
       "    <tr>\n",
       "      <th>2</th>\n",
       "      <td>-58.756093</td>\n",
       "      <td>-341.806518</td>\n",
       "    </tr>\n",
       "    <tr>\n",
       "      <th>3</th>\n",
       "      <td>-202.364043</td>\n",
       "      <td>279.372587</td>\n",
       "    </tr>\n",
       "    <tr>\n",
       "      <th>4</th>\n",
       "      <td>-413.713825</td>\n",
       "      <td>-178.956937</td>\n",
       "    </tr>\n",
       "    <tr>\n",
       "      <th>...</th>\n",
       "      <td>...</td>\n",
       "      <td>...</td>\n",
       "    </tr>\n",
       "    <tr>\n",
       "      <th>886</th>\n",
       "      <td>80.150802</td>\n",
       "      <td>243.487685</td>\n",
       "    </tr>\n",
       "    <tr>\n",
       "      <th>887</th>\n",
       "      <td>-174.839304</td>\n",
       "      <td>315.765832</td>\n",
       "    </tr>\n",
       "    <tr>\n",
       "      <th>888</th>\n",
       "      <td>0.666048</td>\n",
       "      <td>-335.762612</td>\n",
       "    </tr>\n",
       "    <tr>\n",
       "      <th>889</th>\n",
       "      <td>-395.784221</td>\n",
       "      <td>298.866922</td>\n",
       "    </tr>\n",
       "    <tr>\n",
       "      <th>890</th>\n",
       "      <td>-210.138196</td>\n",
       "      <td>-153.995155</td>\n",
       "    </tr>\n",
       "  </tbody>\n",
       "</table>\n",
       "<p>891 rows × 2 columns</p>\n",
       "</div>"
      ],
      "text/plain": [
       "            pc1         pc2\n",
       "0   -316.135539 -222.268523\n",
       "1   -231.667380 -271.237922\n",
       "2    -58.756093 -341.806518\n",
       "3   -202.364043  279.372587\n",
       "4   -413.713825 -178.956937\n",
       "..          ...         ...\n",
       "886   80.150802  243.487685\n",
       "887 -174.839304  315.765832\n",
       "888    0.666048 -335.762612\n",
       "889 -395.784221  298.866922\n",
       "890 -210.138196 -153.995155\n",
       "\n",
       "[891 rows x 2 columns]"
      ]
     },
     "execution_count": 34,
     "metadata": {},
     "output_type": "execute_result"
    }
   ],
   "source": [
    "principalDf"
   ]
  },
  {
   "cell_type": "code",
   "execution_count": 35,
   "metadata": {
    "id": "VHEecHvSf-18"
   },
   "outputs": [],
   "source": [
    "\n",
    "all_data = pd.concat([ df , principalDf], axis = 1)\n"
   ]
  },
  {
   "cell_type": "code",
   "execution_count": 36,
   "metadata": {
    "colab": {
     "base_uri": "https://localhost:8080/",
     "height": 423
    },
    "id": "LkAEby82gZdn",
    "outputId": "f92f79bb-1dc0-42fb-e000-db108cbea777"
   },
   "outputs": [
    {
     "data": {
      "text/html": [
       "<div>\n",
       "<style scoped>\n",
       "    .dataframe tbody tr th:only-of-type {\n",
       "        vertical-align: middle;\n",
       "    }\n",
       "\n",
       "    .dataframe tbody tr th {\n",
       "        vertical-align: top;\n",
       "    }\n",
       "\n",
       "    .dataframe thead th {\n",
       "        text-align: right;\n",
       "    }\n",
       "</style>\n",
       "<table border=\"1\" class=\"dataframe\">\n",
       "  <thead>\n",
       "    <tr style=\"text-align: right;\">\n",
       "      <th></th>\n",
       "      <th>Survived</th>\n",
       "      <th>Pclass</th>\n",
       "      <th>Name</th>\n",
       "      <th>Sex</th>\n",
       "      <th>Age</th>\n",
       "      <th>SibSp</th>\n",
       "      <th>Parch</th>\n",
       "      <th>Ticket</th>\n",
       "      <th>Fare</th>\n",
       "      <th>Cabin</th>\n",
       "      <th>Embarked</th>\n",
       "      <th>clusters</th>\n",
       "      <th>pc1</th>\n",
       "      <th>pc2</th>\n",
       "    </tr>\n",
       "  </thead>\n",
       "  <tbody>\n",
       "    <tr>\n",
       "      <th>0</th>\n",
       "      <td>0</td>\n",
       "      <td>2</td>\n",
       "      <td>108</td>\n",
       "      <td>1</td>\n",
       "      <td>28</td>\n",
       "      <td>1</td>\n",
       "      <td>0</td>\n",
       "      <td>523</td>\n",
       "      <td>18</td>\n",
       "      <td>147</td>\n",
       "      <td>2</td>\n",
       "      <td>0</td>\n",
       "      <td>-316.135539</td>\n",
       "      <td>-222.268523</td>\n",
       "    </tr>\n",
       "    <tr>\n",
       "      <th>1</th>\n",
       "      <td>1</td>\n",
       "      <td>0</td>\n",
       "      <td>190</td>\n",
       "      <td>0</td>\n",
       "      <td>51</td>\n",
       "      <td>1</td>\n",
       "      <td>0</td>\n",
       "      <td>596</td>\n",
       "      <td>207</td>\n",
       "      <td>81</td>\n",
       "      <td>0</td>\n",
       "      <td>0</td>\n",
       "      <td>-231.667380</td>\n",
       "      <td>-271.237922</td>\n",
       "    </tr>\n",
       "    <tr>\n",
       "      <th>2</th>\n",
       "      <td>1</td>\n",
       "      <td>2</td>\n",
       "      <td>353</td>\n",
       "      <td>0</td>\n",
       "      <td>34</td>\n",
       "      <td>0</td>\n",
       "      <td>0</td>\n",
       "      <td>669</td>\n",
       "      <td>41</td>\n",
       "      <td>147</td>\n",
       "      <td>2</td>\n",
       "      <td>0</td>\n",
       "      <td>-58.756093</td>\n",
       "      <td>-341.806518</td>\n",
       "    </tr>\n",
       "    <tr>\n",
       "      <th>3</th>\n",
       "      <td>1</td>\n",
       "      <td>0</td>\n",
       "      <td>272</td>\n",
       "      <td>0</td>\n",
       "      <td>47</td>\n",
       "      <td>1</td>\n",
       "      <td>0</td>\n",
       "      <td>49</td>\n",
       "      <td>189</td>\n",
       "      <td>55</td>\n",
       "      <td>2</td>\n",
       "      <td>3</td>\n",
       "      <td>-202.364043</td>\n",
       "      <td>279.372587</td>\n",
       "    </tr>\n",
       "    <tr>\n",
       "      <th>4</th>\n",
       "      <td>0</td>\n",
       "      <td>2</td>\n",
       "      <td>15</td>\n",
       "      <td>1</td>\n",
       "      <td>47</td>\n",
       "      <td>0</td>\n",
       "      <td>0</td>\n",
       "      <td>472</td>\n",
       "      <td>43</td>\n",
       "      <td>147</td>\n",
       "      <td>2</td>\n",
       "      <td>0</td>\n",
       "      <td>-413.713825</td>\n",
       "      <td>-178.956937</td>\n",
       "    </tr>\n",
       "    <tr>\n",
       "      <th>...</th>\n",
       "      <td>...</td>\n",
       "      <td>...</td>\n",
       "      <td>...</td>\n",
       "      <td>...</td>\n",
       "      <td>...</td>\n",
       "      <td>...</td>\n",
       "      <td>...</td>\n",
       "      <td>...</td>\n",
       "      <td>...</td>\n",
       "      <td>...</td>\n",
       "      <td>...</td>\n",
       "      <td>...</td>\n",
       "      <td>...</td>\n",
       "      <td>...</td>\n",
       "    </tr>\n",
       "    <tr>\n",
       "      <th>886</th>\n",
       "      <td>0</td>\n",
       "      <td>1</td>\n",
       "      <td>548</td>\n",
       "      <td>1</td>\n",
       "      <td>35</td>\n",
       "      <td>0</td>\n",
       "      <td>0</td>\n",
       "      <td>101</td>\n",
       "      <td>85</td>\n",
       "      <td>147</td>\n",
       "      <td>2</td>\n",
       "      <td>1</td>\n",
       "      <td>80.150802</td>\n",
       "      <td>243.487685</td>\n",
       "    </tr>\n",
       "    <tr>\n",
       "      <th>887</th>\n",
       "      <td>1</td>\n",
       "      <td>0</td>\n",
       "      <td>303</td>\n",
       "      <td>0</td>\n",
       "      <td>24</td>\n",
       "      <td>0</td>\n",
       "      <td>0</td>\n",
       "      <td>14</td>\n",
       "      <td>153</td>\n",
       "      <td>30</td>\n",
       "      <td>2</td>\n",
       "      <td>3</td>\n",
       "      <td>-174.839304</td>\n",
       "      <td>315.765832</td>\n",
       "    </tr>\n",
       "    <tr>\n",
       "      <th>888</th>\n",
       "      <td>0</td>\n",
       "      <td>2</td>\n",
       "      <td>413</td>\n",
       "      <td>0</td>\n",
       "      <td>88</td>\n",
       "      <td>1</td>\n",
       "      <td>2</td>\n",
       "      <td>675</td>\n",
       "      <td>131</td>\n",
       "      <td>147</td>\n",
       "      <td>2</td>\n",
       "      <td>0</td>\n",
       "      <td>0.666048</td>\n",
       "      <td>-335.762612</td>\n",
       "    </tr>\n",
       "    <tr>\n",
       "      <th>889</th>\n",
       "      <td>1</td>\n",
       "      <td>0</td>\n",
       "      <td>81</td>\n",
       "      <td>1</td>\n",
       "      <td>34</td>\n",
       "      <td>0</td>\n",
       "      <td>0</td>\n",
       "      <td>8</td>\n",
       "      <td>153</td>\n",
       "      <td>60</td>\n",
       "      <td>0</td>\n",
       "      <td>3</td>\n",
       "      <td>-395.784221</td>\n",
       "      <td>298.866922</td>\n",
       "    </tr>\n",
       "    <tr>\n",
       "      <th>890</th>\n",
       "      <td>0</td>\n",
       "      <td>2</td>\n",
       "      <td>220</td>\n",
       "      <td>1</td>\n",
       "      <td>42</td>\n",
       "      <td>0</td>\n",
       "      <td>0</td>\n",
       "      <td>466</td>\n",
       "      <td>30</td>\n",
       "      <td>147</td>\n",
       "      <td>1</td>\n",
       "      <td>0</td>\n",
       "      <td>-210.138196</td>\n",
       "      <td>-153.995155</td>\n",
       "    </tr>\n",
       "  </tbody>\n",
       "</table>\n",
       "<p>891 rows × 14 columns</p>\n",
       "</div>"
      ],
      "text/plain": [
       "     Survived  Pclass  Name  Sex  Age  SibSp  Parch  Ticket  Fare  Cabin  \\\n",
       "0           0       2   108    1   28      1      0     523    18    147   \n",
       "1           1       0   190    0   51      1      0     596   207     81   \n",
       "2           1       2   353    0   34      0      0     669    41    147   \n",
       "3           1       0   272    0   47      1      0      49   189     55   \n",
       "4           0       2    15    1   47      0      0     472    43    147   \n",
       "..        ...     ...   ...  ...  ...    ...    ...     ...   ...    ...   \n",
       "886         0       1   548    1   35      0      0     101    85    147   \n",
       "887         1       0   303    0   24      0      0      14   153     30   \n",
       "888         0       2   413    0   88      1      2     675   131    147   \n",
       "889         1       0    81    1   34      0      0       8   153     60   \n",
       "890         0       2   220    1   42      0      0     466    30    147   \n",
       "\n",
       "     Embarked  clusters         pc1         pc2  \n",
       "0           2         0 -316.135539 -222.268523  \n",
       "1           0         0 -231.667380 -271.237922  \n",
       "2           2         0  -58.756093 -341.806518  \n",
       "3           2         3 -202.364043  279.372587  \n",
       "4           2         0 -413.713825 -178.956937  \n",
       "..        ...       ...         ...         ...  \n",
       "886         2         1   80.150802  243.487685  \n",
       "887         2         3 -174.839304  315.765832  \n",
       "888         2         0    0.666048 -335.762612  \n",
       "889         0         3 -395.784221  298.866922  \n",
       "890         1         0 -210.138196 -153.995155  \n",
       "\n",
       "[891 rows x 14 columns]"
      ]
     },
     "execution_count": 36,
     "metadata": {},
     "output_type": "execute_result"
    }
   ],
   "source": [
    "all_data"
   ]
  },
  {
   "cell_type": "code",
   "execution_count": 37,
   "metadata": {
    "colab": {
     "base_uri": "https://localhost:8080/",
     "height": 449
    },
    "id": "w3FTxzYOgaWH",
    "outputId": "c6796716-c449-46d3-b2dd-3fdc4299f5f8"
   },
   "outputs": [
    {
     "data": {
      "image/png": "[encoded data removed]",
      "text/plain": [
       "<Figure size 432x288 with 1 Axes>"
      ]
     },
     "metadata": {
      "needs_background": "light"
     },
     "output_type": "display_data"
    }
   ],
   "source": [
    "visualize_clusters('clusters')"
   ]
  },
  {
   "cell_type": "code",
   "execution_count": 38,
   "metadata": {
    "colab": {
     "base_uri": "https://localhost:8080/"
    },
    "id": "x0XGuC4Wgtct",
    "outputId": "ad190541-47a0-4f28-a137-d6530befc01c"
   },
   "outputs": [],
   "source": [
    "clustering_score = []\n",
    "for i in range(1, 11):\n",
    "    kmeans = KMeans(n_clusters = i, init = 'random', random_state = 42)\n",
    "    kmeans.fit(df)\n",
    "    clustering_score.append(kmeans.inertia_) \n",
    "\n",
    "\n",
    "  "
   ]
  },
  {
   "cell_type": "code",
   "execution_count": 39,
   "metadata": {
    "colab": {
     "base_uri": "https://localhost:8080/"
    },
    "id": "CxKt0bq7hhJQ",
    "outputId": "1ea56787-e542-4402-9622-529e76108452"
   },
   "outputs": [
    {
     "data": {
      "text/plain": [
       "[100960056.65319866,\n",
       " 56580338.87644124,\n",
       " 38959902.52947159,\n",
       " 28721823.03772891,\n",
       " 24240879.051755037,\n",
       " 20651123.571939554,\n",
       " 18403648.910725202,\n",
       " 16525932.486521391,\n",
       " 14895929.97503337,\n",
       " 13778114.014984917]"
      ]
     },
     "execution_count": 39,
     "metadata": {},
     "output_type": "execute_result"
    }
   ],
   "source": [
    "clustering_score"
   ]
  },
  {
   "cell_type": "code",
   "execution_count": 40,
   "metadata": {
    "colab": {
     "base_uri": "https://localhost:8080/",
     "height": 564
    },
    "id": "WHyl1PL1hi0F",
    "outputId": "375d59a6-232e-4c62-c267-a5aeac3c9598"
   },
   "outputs": [
    {
     "data": {
      "image/png": "[encoded data removed]",
      "text/plain": [
       "<Figure size 720x432 with 1 Axes>"
      ]
     },
     "metadata": {
      "needs_background": "light"
     },
     "output_type": "display_data"
    }
   ],
   "source": [
    "\n",
    "plt.figure(figsize=(10,6))\n",
    "plt.plot(range(1, 11), clustering_score)\n",
    "plt.scatter(5,clustering_score[4], s = 200, c = 'red', marker='*')\n",
    "plt.title('The Elbow Method')\n",
    "plt.xlabel('No. of Clusters')\n",
    "plt.ylabel('Clustering Score')\n",
    "plt.show()"
   ]
  }
 ],
 "metadata": {
  "colab": {
   "provenance": []
  },
  "kernelspec": {
   "display_name": "Python 3 (ipykernel)",
   "language": "python",
   "name": "python3"
  },
  "language_info": {
   "codemirror_mode": {
    "name": "ipython",
    "version": 3
   },
   "file_extension": ".py",
   "mimetype": "text/x-python",
   "name": "python",
   "nbconvert_exporter": "python",
   "pygments_lexer": "ipython3",
   "version": "3.9.12"
  }
 },
 "nbformat": 4,
 "nbformat_minor": 1
}
