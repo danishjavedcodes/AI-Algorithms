{
 "cells": [
  {
   "cell_type": "code",
   "execution_count": 21,
   "id": "ff3c8dbe-d4ce-49ca-b869-f5afd1bb9cc0",
   "metadata": {},
   "outputs": [
    {
     "name": "stdout",
     "output_type": "stream",
     "text": [
      " | | \n",
      "-+-+-\n",
      " | | \n",
      "-+-+-\n",
      " | | \n",
      "\n",
      "\n",
      "Computer goes first! Good luck.\n",
      "Positions are as follow:\n",
      "1, 2, 3 \n",
      "4, 5, 6 \n",
      "7, 8, 9 \n",
      "\n",
      "\n"
     ]
    }
   ],
   "source": [
    "\n",
    "player = 'O'\n",
    "bot = 'X'\n",
    "\n",
    "board = {1: ' ', 2: ' ', 3: ' ',\n",
    "         4: ' ', 5: ' ', 6: ' ',\n",
    "         7: ' ', 8: ' ', 9: ' '}\n",
    "\n",
    "def printBoard(board):\n",
    "    print(board[1] + '|' + board[2] + '|' + board[3])\n",
    "    print('-+-+-')\n",
    "    print(board[4] + '|' + board[5] + '|' + board[6])\n",
    "    print('-+-+-')\n",
    "    print(board[7] + '|' + board[8] + '|' + board[9])\n",
    "    print(\"\\n\")\n",
    "    \n",
    "printBoard(board)\n",
    "\n",
    "print(\"Computer goes first! Good luck.\")\n",
    "print(\"Positions are as follow:\")\n",
    "print(\"1, 2, 3 \")\n",
    "print(\"4, 5, 6 \")\n",
    "print(\"7, 8, 9 \")\n",
    "print(\"\\n\")"
   ]
  },
  {
   "cell_type": "code",
   "execution_count": 22,
   "id": "04105528-4d8c-41b7-adeb-0692588a39d7",
   "metadata": {},
   "outputs": [],
   "source": [
    "def spaceIsFree(position):\n",
    "    if board[position] == ' ':\n",
    "        return True\n",
    "    else:\n",
    "        return False"
   ]
  },
  {
   "cell_type": "code",
   "execution_count": 23,
   "id": "ad077bf6-9231-4ca7-9fc1-a51a19ba70e1",
   "metadata": {},
   "outputs": [
    {
     "data": {
      "text/plain": [
       "True"
      ]
     },
     "execution_count": 23,
     "metadata": {},
     "output_type": "execute_result"
    }
   ],
   "source": [
    "spaceIsFree(2)"
   ]
  },
  {
   "cell_type": "code",
   "execution_count": 24,
   "id": "ad075e30-3281-4730-b65b-a0d891f6571e",
   "metadata": {},
   "outputs": [],
   "source": [
    "def insertLetter(letter, position):\n",
    "    if spaceIsFree(position):\n",
    "        board[position] = letter\n",
    "        printBoard(board)\n",
    "        if (checkDraw()):\n",
    "            print(\"Draw!\")\n",
    "            exit()\n",
    "        if checkForWin():\n",
    "            if letter == 'X':\n",
    "                print(\"Bot wins!\")\n",
    "                return \n",
    "            else:\n",
    "                print(\"Player wins!\")\n",
    "                exit()\n",
    "\n",
    "        return\n",
    "\n",
    "\n",
    "    else:\n",
    "        print(\"Can't insert there!\")\n",
    "        position = int(input(\"Please enter new position:  \"))\n",
    "        insertLetter(letter, position)\n",
    "        return"
   ]
  },
  {
   "cell_type": "code",
   "execution_count": 25,
   "id": "a5eb75b7-904e-4fe4-9582-d7e292cad224",
   "metadata": {},
   "outputs": [],
   "source": [
    "# insertLetter('#',2)"
   ]
  },
  {
   "cell_type": "code",
   "execution_count": null,
   "id": "845feaa0-86c1-4547-b1be-ac334f6bb433",
   "metadata": {},
   "outputs": [],
   "source": []
  },
  {
   "cell_type": "code",
   "execution_count": 26,
   "id": "93d9ed06-62cb-48cf-8738-2f0a7346a751",
   "metadata": {},
   "outputs": [],
   "source": [
    "def checkForWin():\n",
    "    if (board[1] == board[2] and board[1] == board[3] and board[1] != ' '):\n",
    "        return True\n",
    "    elif (board[4] == board[5] and board[4] == board[6] and board[4] != ' '):\n",
    "        return True\n",
    "    elif (board[7] == board[8] and board[7] == board[9] and board[7] != ' '):\n",
    "        return True\n",
    "    elif (board[1] == board[4] and board[1] == board[7] and board[1] != ' '):\n",
    "        return True\n",
    "    elif (board[2] == board[5] and board[2] == board[8] and board[2] != ' '):\n",
    "        return True\n",
    "    elif (board[3] == board[6] and board[3] == board[9] and board[3] != ' '):\n",
    "        return True\n",
    "    elif (board[1] == board[5] and board[1] == board[9] and board[1] != ' '):\n",
    "        return True\n",
    "    elif (board[7] == board[5] and board[7] == board[3] and board[7] != ' '):\n",
    "        return True\n",
    "    else:\n",
    "        return False"
   ]
  },
  {
   "cell_type": "code",
   "execution_count": 27,
   "id": "b45f990e-a51a-46f3-ab81-c75d51a131b2",
   "metadata": {},
   "outputs": [
    {
     "data": {
      "text/plain": [
       "False"
      ]
     },
     "execution_count": 27,
     "metadata": {},
     "output_type": "execute_result"
    }
   ],
   "source": [
    "checkForWin()"
   ]
  },
  {
   "cell_type": "code",
   "execution_count": 28,
   "id": "45bf200c-d292-4b8a-8f0b-cfe116db9059",
   "metadata": {},
   "outputs": [],
   "source": [
    "def checkWhichMarkWon(mark):\n",
    "    if board[1] == board[2] and board[1] == board[3] and board[1] == mark:\n",
    "        return True\n",
    "    elif (board[4] == board[5] and board[4] == board[6] and board[4] == mark):\n",
    "        return True\n",
    "    elif (board[7] == board[8] and board[7] == board[9] and board[7] == mark):\n",
    "        return True\n",
    "    elif (board[1] == board[4] and board[1] == board[7] and board[1] == mark):\n",
    "        return True\n",
    "    elif (board[2] == board[5] and board[2] == board[8] and board[2] == mark):\n",
    "        return True\n",
    "    elif (board[3] == board[6] and board[3] == board[9] and board[3] == mark):\n",
    "        return True\n",
    "    elif (board[1] == board[5] and board[1] == board[9] and board[1] == mark):\n",
    "        return True\n",
    "    elif (board[7] == board[5] and board[7] == board[3] and board[7] == mark):\n",
    "        return True\n",
    "    else:\n",
    "        return False"
   ]
  },
  {
   "cell_type": "code",
   "execution_count": 29,
   "id": "64de4e84-d3ff-406f-9b05-3bb72054dd8d",
   "metadata": {},
   "outputs": [
    {
     "data": {
      "text/plain": [
       "False"
      ]
     },
     "execution_count": 29,
     "metadata": {},
     "output_type": "execute_result"
    }
   ],
   "source": [
    "checkWhichMarkWon('X')"
   ]
  },
  {
   "cell_type": "code",
   "execution_count": 30,
   "id": "d8c01ec3-2898-4a02-893e-833166968676",
   "metadata": {},
   "outputs": [],
   "source": [
    "def checkDraw():\n",
    "    for key in board.keys():\n",
    "        if (board[key] == ' '):\n",
    "            return False\n",
    "    return True"
   ]
  },
  {
   "cell_type": "code",
   "execution_count": 31,
   "id": "e77dbfcc-dfdb-4df0-a917-5076c0bfac2f",
   "metadata": {},
   "outputs": [],
   "source": [
    "def playerMove():\n",
    "    position = int(input(\"Enter the position for 'O':  \"))\n",
    "    insertLetter(player, position)\n",
    "    return\n",
    "\n",
    "\n",
    "def compMove():\n",
    "    bestScore = -800\n",
    "    bestMove = 0\n",
    "    for key in board.keys():\n",
    "        if (board[key] == ' '):\n",
    "            board[key] = bot\n",
    "            score = minimax(board, 0, False)\n",
    "            board[key] = ' '\n",
    "            if (score > bestScore):\n",
    "                bestScore = score\n",
    "                bestMove = key\n",
    "\n",
    "    insertLetter(bot, bestMove)\n",
    "    return"
   ]
  },
  {
   "cell_type": "code",
   "execution_count": 32,
   "id": "faa9a041-717f-4207-a5a8-9b4b9e30a5cc",
   "metadata": {},
   "outputs": [],
   "source": [
    "\n",
    "def minimax(board, depth, isMaximizing):\n",
    "    if (checkWhichMarkWon(bot)):\n",
    "        return 1\n",
    "    elif (checkWhichMarkWon(player)):\n",
    "        return -1\n",
    "    elif (checkDraw()):\n",
    "        return 0\n",
    "    #max player\n",
    "    if (isMaximizing):\n",
    "        bestScore = -800\n",
    "        for key in board.keys():\n",
    "            if (board[key] == ' '):\n",
    "                board[key] = bot\n",
    "                score = minimax(board, depth + 1, False)\n",
    "                board[key] = ' '\n",
    "                if (score > bestScore):\n",
    "                    bestScore = score\n",
    "        return bestScore\n",
    "    # min player\n",
    "    else:\n",
    "        bestScore = 800\n",
    "        for key in board.keys():\n",
    "            if (board[key] == ' '):\n",
    "                board[key] = player\n",
    "                score = minimax(board, depth + 1, True)\n",
    "                board[key] = ' '\n",
    "                if (score < bestScore):\n",
    "                    bestScore = score\n",
    "        return bestScore"
   ]
  },
  {
   "cell_type": "code",
   "execution_count": null,
   "id": "9e42e8ff-8072-48e6-820c-f912d4efbc3e",
   "metadata": {},
   "outputs": [
    {
     "name": "stdout",
     "output_type": "stream",
     "text": [
      "X|O|X\n",
      "-+-+-\n",
      "X| | \n",
      "-+-+-\n",
      " | | \n",
      "\n",
      "\n",
      "Enter the position for 'O':  7\n",
      "X|O|X\n",
      "-+-+-\n",
      "X| | \n",
      "-+-+-\n",
      "O| | \n",
      "\n",
      "\n",
      "X|O|X\n",
      "-+-+-\n",
      "X|X| \n",
      "-+-+-\n",
      "O| | \n",
      "\n",
      "\n",
      "Enter the position for 'O':  6\n",
      "X|O|X\n",
      "-+-+-\n",
      "X|X|O\n",
      "-+-+-\n",
      "O| | \n",
      "\n",
      "\n",
      "X|O|X\n",
      "-+-+-\n",
      "X|X|O\n",
      "-+-+-\n",
      "O| |X\n",
      "\n",
      "\n",
      "Bot wins!\n"
     ]
    }
   ],
   "source": [
    "\n",
    "while not checkForWin():\n",
    "    compMove()\n",
    "    playerMove()"
   ]
  }
 ],
 "metadata": {
  "kernelspec": {
   "display_name": "Python 3 (ipykernel)",
   "language": "python",
   "name": "python3"
  },
  "language_info": {
   "codemirror_mode": {
    "name": "ipython",
    "version": 3
   },
   "file_extension": ".py",
   "mimetype": "text/x-python",
   "name": "python",
   "nbconvert_exporter": "python",
   "pygments_lexer": "ipython3",
   "version": "3.9.12"
  }
 },
 "nbformat": 4,
 "nbformat_minor": 5
}
