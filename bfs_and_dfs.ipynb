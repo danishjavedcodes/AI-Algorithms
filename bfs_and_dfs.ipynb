{
 "cells": [
  {
   "cell_type": "code",
   "execution_count": null,
   "id": "7b6194f1",
   "metadata": {},
   "outputs": [],
   "source": []
  },
  {
   "cell_type": "code",
   "execution_count": 9,
   "id": "b1f8a93b",
   "metadata": {},
   "outputs": [],
   "source": [
    "def dfs(graph, start):\n",
    "    visited = [] #list for visited nodes \n",
    "    stack = [start] #start stack with staring node\n",
    "    while stack: #explore stack\n",
    "        d = stack.pop() #pop first element in stack to visit its child\n",
    "        if d not in visited: # add d in visited list\n",
    "            visited.append(d)\n",
    "            print(d)\n",
    "        for j in graph:\n",
    "            if j == d:\n",
    "                for i in graph[d]:\n",
    "                    if i not in visited:\n",
    "                        stack.append(i)\n",
    "#                         stack.reverse()\n",
    "#                         print(stack)\n",
    "        "
   ]
  },
  {
   "cell_type": "code",
   "execution_count": null,
   "id": "62a0ab7a",
   "metadata": {},
   "outputs": [],
   "source": []
  },
  {
   "cell_type": "code",
   "execution_count": 10,
   "id": "cbefb2c1",
   "metadata": {},
   "outputs": [
    {
     "name": "stdout",
     "output_type": "stream",
     "text": [
      "10\n",
      "15\n",
      "16\n",
      "11\n",
      "5\n",
      "3\n",
      "2\n"
     ]
    }
   ],
   "source": [
    "graph = {\n",
    "    10 : [5, 15],\n",
    "    5 : [2, 3],\n",
    "    15 : [11, 16]\n",
    "}\n",
    "# graph[3]\n",
    "dfs(graph, 10)"
   ]
  },
  {
   "cell_type": "code",
   "execution_count": 167,
   "id": "24483f7f",
   "metadata": {},
   "outputs": [],
   "source": [
    "#10 5 15 2 3 11 16 \n",
    "def bfs(graph, start):\n",
    "    visited = []\n",
    "    stack = []\n",
    "    for i in graph:\n",
    "        if i not in visited:\n",
    "            visited.append(i)\n",
    "        for j in graph[i]:\n",
    "            visited.append(j)\n",
    "    print(visited)"
   ]
  },
  {
   "cell_type": "code",
   "execution_count": 166,
   "id": "97b053ee",
   "metadata": {},
   "outputs": [
    {
     "name": "stdout",
     "output_type": "stream",
     "text": [
      "[10, 5, 15, 2, 3, 11, 16]\n"
     ]
    }
   ],
   "source": [
    "bfs(graph, 10)"
   ]
  },
  {
   "cell_type": "code",
   "execution_count": null,
   "id": "476ad75b",
   "metadata": {},
   "outputs": [],
   "source": []
  }
 ],
 "metadata": {
  "kernelspec": {
   "display_name": "Python 3 (ipykernel)",
   "language": "python",
   "name": "python3"
  },
  "language_info": {
   "codemirror_mode": {
    "name": "ipython",
    "version": 3
   },
   "file_extension": ".py",
   "mimetype": "text/x-python",
   "name": "python",
   "nbconvert_exporter": "python",
   "pygments_lexer": "ipython3",
   "version": "3.9.12"
  }
 },
 "nbformat": 4,
 "nbformat_minor": 5
}
