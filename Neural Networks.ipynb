{
 "cells": [
  {
   "cell_type": "markdown",
   "id": "b2d86da9",
   "metadata": {},
   "source": [
    "Simple Neural Networks"
   ]
  },
  {
   "cell_type": "code",
   "execution_count": 20,
   "id": "4d6bda69",
   "metadata": {},
   "outputs": [],
   "source": [
    "import numpy as np\n",
    "import math"
   ]
  },
  {
   "cell_type": "code",
   "execution_count": 21,
   "id": "a8bb00ac",
   "metadata": {},
   "outputs": [],
   "source": [
    "input = [2, 4, 3]\n",
    "weights = [[1, 0, 0.2],\n",
    "          [0, 1, 1],\n",
    "          [1, 0, 1]]\n",
    "Bias = [3, 4, 3]\n",
    "x = []\n",
    "output = []"
   ]
  },
  {
   "cell_type": "code",
   "execution_count": 22,
   "id": "b1e1c4ab",
   "metadata": {},
   "outputs": [],
   "source": [
    "for i in range (len(weights)):\n",
    "    sum = np.dot(input, weights[i])\n",
    "    sum += Bias[i]\n",
    "    x.append(sum)"
   ]
  },
  {
   "cell_type": "code",
   "execution_count": 23,
   "id": "73fc6706",
   "metadata": {},
   "outputs": [],
   "source": [
    "# Sigmoid\n",
    "for i in range(len(x)):\n",
    "    o = 1/(1+math.exp(-x[i]))\n",
    "    output.append(o)"
   ]
  },
  {
   "cell_type": "code",
   "execution_count": 24,
   "id": "e6d1e204",
   "metadata": {},
   "outputs": [
    {
     "data": {
      "text/plain": [
       "[0.9963157601005641, 0.999983298578152, 0.9996646498695336]"
      ]
     },
     "execution_count": 24,
     "metadata": {},
     "output_type": "execute_result"
    }
   ],
   "source": [
    "output"
   ]
  },
  {
   "cell_type": "markdown",
   "id": "9d2f8fb3",
   "metadata": {},
   "source": [
    "Keras Neural Networks Sigmoid"
   ]
  },
  {
   "cell_type": "code",
   "execution_count": 27,
   "id": "f364efc4",
   "metadata": {},
   "outputs": [],
   "source": [
    "import numpy as np\n",
    "from tensorflow.keras.models import Sequential\n",
    "from tensorflow.keras.layers import Dense"
   ]
  },
  {
   "cell_type": "code",
   "execution_count": 28,
   "id": "90bc3e75",
   "metadata": {},
   "outputs": [],
   "source": [
    "# Define the model architecture\n",
    "model = Sequential()\n",
    "model.add(Dense(3, input_dim=3, activation='sigmoid', \n",
    "                kernel_initializer='glorot_uniform',\n",
    "                bias_initializer='zeros'))"
   ]
  },
  {
   "cell_type": "code",
   "execution_count": 29,
   "id": "77a26495",
   "metadata": {},
   "outputs": [],
   "source": [
    "# Define the input and weights\n",
    "inputs = np.array([[2, 4, 3]])\n",
    "weights = np.array([[1, 0, 0.2],\n",
    "                    [0, 1, 1],\n",
    "                    [1, 0, 1]])\n",
    "biases = np.array([3, 4, 3])"
   ]
  },
  {
   "cell_type": "code",
   "execution_count": 30,
   "id": "55b1ac49",
   "metadata": {},
   "outputs": [],
   "source": [
    "# Set the weights and biases in the model\n",
    "model.layers[0].set_weights([weights, biases])"
   ]
  },
  {
   "cell_type": "code",
   "execution_count": 31,
   "id": "4785c53d",
   "metadata": {},
   "outputs": [
    {
     "name": "stdout",
     "output_type": "stream",
     "text": [
      "1/1 [==============================] - 0s 34ms/step\n",
      "[[0.99966466 0.99966466 0.9999696 ]]\n"
     ]
    },
    {
     "name": "stderr",
     "output_type": "stream",
     "text": [
      "2023-05-02 15:29:06.064182: I tensorflow/core/grappler/optimizers/custom_graph_optimizer_registry.cc:114] Plugin optimizer for device_type GPU is enabled.\n"
     ]
    }
   ],
   "source": [
    "# Compute the output\n",
    "output = model.predict(inputs)\n",
    "print(output)"
   ]
  },
  {
   "cell_type": "code",
   "execution_count": null,
   "id": "79a23c52",
   "metadata": {},
   "outputs": [],
   "source": []
  },
  {
   "cell_type": "code",
   "execution_count": null,
   "id": "0a60ca65",
   "metadata": {},
   "outputs": [],
   "source": []
  }
 ],
 "metadata": {
  "kernelspec": {
   "display_name": "Python 3 (ipykernel)",
   "language": "python",
   "name": "python3"
  },
  "language_info": {
   "codemirror_mode": {
    "name": "ipython",
    "version": 3
   },
   "file_extension": ".py",
   "mimetype": "text/x-python",
   "name": "python",
   "nbconvert_exporter": "python",
   "pygments_lexer": "ipython3",
   "version": "3.9.16"
  }
 },
 "nbformat": 4,
 "nbformat_minor": 5
}
