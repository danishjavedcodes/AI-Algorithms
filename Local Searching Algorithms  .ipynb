{
 "cells": [
  {
   "cell_type": "code",
   "execution_count": 10,
   "id": "d8cb8815",
   "metadata": {},
   "outputs": [],
   "source": [
    "graph = {\n",
    "         'Arad': [('Sibiu', 140), ('Timisoara', 118), ('Zerind', 75)],\n",
    "         'Sibiu': [('Arad', 140), ('Oradea', 151), ('Fagaras', 99), ('Rimnicu', 80)],\n",
    "         'Timisoara': [('Arad', 118), ('Lugoj', 111)],\n",
    "         'Zerind': [('Arad', 75), ('Oradea', 71)],\n",
    "         'Oradea': [('Zerind', 71), ('Sibiu', 151)],\n",
    "         'Fagaras': [('Sibiu', 99), ('Bucharest', 211)],\n",
    "         'Rimnicu': [('Sibiu', 80), ('Craivo', 146), ('Pitesti', 97)],\n",
    "         'Lugoj': [('Timisoara', 111), ('Mehadia', 70)],\n",
    "         'Bucharest': [('Giurgiu', 90), ('Urziceni', 85), ('Pitesti', 101), ('Fagaras', 211)],\n",
    "         'Craivo': [('Dobreta', 120), ('Pitesti', 138), ('Rimnicu', 146)],\n",
    "         'Pitesti': [('Rimnicu', 97), ('Craivo', 138), ('Bucharest', 101)],\n",
    "         'Mehadia': [('Dobreta', 75), ('Lugoj', 70)],\n",
    "         'Giurgiu': [('Bucharest', 90)],\n",
    "         'Urziceni': [('Bucharest', 85), ('Hirsova', 98), ('Vaslui', 142)],\n",
    "         'Dobreta': [('Mehadia', 75), ('Craivo', 120)],\n",
    "         'Hirsova' : [('Eforie', 86), ('Urziceni', 98)],\n",
    "         'Vaslui' : [('Urziceni', 142), ('Lasi', 92)],\n",
    "         'Eforie' : [('Hirsova', 86)],\n",
    "         'Lasi': [('Neamt', 87), ('Vaslui', 92)],\n",
    "         'Neamt': [('Lasi', a87)],\n",
    "}\n",
    "\n",
    "heuristic = {\n",
    "        \n",
    "         'Arad': 366,\n",
    "         'Sibiu':  253,\n",
    "         'Timisoara': 329,\n",
    "         'Zerind': 374,\n",
    "         'Oradea': 380,\n",
    "         'Fagaras': 178,\n",
    "         'Rimnicu': 193,\n",
    "         'Lugoj': 244,\n",
    "         'Bucharest': 0,\n",
    "         'Craivo': 160,\n",
    "         'Pitesti': 98,\n",
    "         'Mehadia': 241,\n",
    "         'Giurgiu': 77,\n",
    "         'Urziceni': 80,\n",
    "         'Dobreta': 242,\n",
    "         'Hirsova' : 151,\n",
    "         'Vaslui' : 199,\n",
    "         'Eforie' : 161,\n",
    "         'Lasi': 226,\n",
    "         'Neamt': 234\n",
    "}"
   ]
  },
  {
   "cell_type": "markdown",
   "id": "ab831881",
   "metadata": {},
   "source": [
    "**Hill Climbing**"
   ]
  },
  {
   "cell_type": "code",
   "execution_count": 24,
   "id": "d8ffb456",
   "metadata": {},
   "outputs": [
    {
     "name": "stdout",
     "output_type": "stream",
     "text": [
      "path =  ['Arad', 'Sibiu', 'Fagaras', 'Bucharest']\n",
      "Path cost =  431\n"
     ]
    }
   ],
   "source": [
    "start = 'Arad'\n",
    "goal = 'Bucharest'\n",
    "\n",
    "def hill_climbing(start, goal, graph, heuristic):\n",
    "    path_cost = 0\n",
    "    current = start\n",
    "    path = [current]\n",
    "    while current != goal:\n",
    "        neighbors = graph[current]\n",
    "        # Find the neighbor with the lowest heuristic value\n",
    "        neighbor_costs = [(neighbor, heuristic[neighbor]) for neighbor, cost in neighbors]\n",
    "        neighbor_costs.sort(key=lambda x: x[1])\n",
    "        best_neighbor, best_neighbor_cost = neighbor_costs[0]\n",
    "        # If the best neighbor is worse than the current state, stop searching\n",
    "        if best_neighbor_cost >= heuristic[current]:\n",
    "            break\n",
    "        # Move to the best neighbor\n",
    "        current = best_neighbor\n",
    "        path.append(current)\n",
    "        path_cost = path_cost + best_neighbor_cost\n",
    "    \n",
    "    return path, path_cost\n",
    "\n",
    "path, path_cost = hill_climbing(start, goal, graph, heuristic)\n",
    "print('path = ', path)\n",
    "print('Path cost = ',path_cost)\n"
   ]
  },
  {
   "cell_type": "markdown",
   "id": "b7cf9070",
   "metadata": {},
   "source": [
    "**Simulated Anneling**"
   ]
  },
  {
   "cell_type": "code",
   "execution_count": 55,
   "id": "798f6f4e",
   "metadata": {},
   "outputs": [],
   "source": [
    "import random\n",
    "from math import exp\n",
    "path = []\n",
    "def SimulatedAnnealing(start,end,graph,heuristic,T):\n",
    "    current_score = heuristic[start]\n",
    "    current_node=start\n",
    "    path.append(start)\n",
    "    if(start==end):\n",
    "        return 0\n",
    "    # If the temperature T is zero, return -1 as there is no path found.\n",
    "    if (T==0):\n",
    "        print(\"No path\")\n",
    "        return -1\n",
    "    #Update the current score to the best neighbor node.\n",
    "    for neighbour in graph[current_node]:\n",
    "        node = neighbour[0]\n",
    "        if(heuristic[node]<current_score):  \n",
    "            current_score = heuristic[node]\n",
    "            current_node = node\n",
    "            \n",
    "    #update score to worse with prob\n",
    "    prob = random.random()\n",
    "    criteria = exp(-(heuristic[node]-current_score)/T)\n",
    "\n",
    "    if(prob<=criteria):\n",
    "        current_score = heuristic[node]\n",
    "        current_node = node\n",
    "#     print(current_node)    \n",
    "    return SimulatedAnnealing(current_node,end,graph,heuristic,T-0.01)+current_score"
   ]
  },
  {
   "cell_type": "code",
   "execution_count": 56,
   "id": "7ca79971",
   "metadata": {},
   "outputs": [
    {
     "name": "stdout",
     "output_type": "stream",
     "text": [
      "path =  431\n",
      "paht cost =  ['Arad', 'Sibiu', 'Fagaras', 'Bucharest']\n"
     ]
    }
   ],
   "source": [
    "print('path = ', SimulatedAnnealing(\"Arad\",\"Bucharest\",graph,heuristic,1))\n",
    "print('paht cost = ', path)"
   ]
  },
  {
   "cell_type": "code",
   "execution_count": null,
   "id": "3ccc8c5f",
   "metadata": {},
   "outputs": [],
   "source": []
  }
 ],
 "metadata": {
  "kernelspec": {
   "display_name": "Python 3 (ipykernel)",
   "language": "python",
   "name": "python3"
  },
  "language_info": {
   "codemirror_mode": {
    "name": "ipython",
    "version": 3
   },
   "file_extension": ".py",
   "mimetype": "text/x-python",
   "name": "python",
   "nbconvert_exporter": "python",
   "pygments_lexer": "ipython3",
   "version": "3.9.16"
  }
 },
 "nbformat": 4,
 "nbformat_minor": 5
}
