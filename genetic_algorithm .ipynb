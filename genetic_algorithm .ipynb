{
 "cells": [
  {
   "cell_type": "code",
   "execution_count": 1,
   "id": "10fccc23",
   "metadata": {},
   "outputs": [
    {
     "name": "stdout",
     "output_type": "stream",
     "text": [
      "Fittest chromosome: [1, 1, 1, 1, 1, 1, 1, 1, 1, 1]\n"
     ]
    }
   ],
   "source": [
    "import random\n",
    "\n",
    "# Define the genetic algorithm parameters\n",
    "population_size = 100\n",
    "chromosome_length = 10\n",
    "mutation_rate = 0.1\n",
    "generations = 100\n",
    "\n",
    "# Define the fitness function\n",
    "def fitness(chromosome):\n",
    "    # Calculate the fitness of the chromosome\n",
    "    fitness_value = 0\n",
    "    for gene in chromosome:\n",
    "        if gene == 1:\n",
    "            fitness_value += 1\n",
    "    return fitness_value\n",
    "\n",
    "# Define the crossover function\n",
    "def crossover(parent_1, parent_2):\n",
    "    # Choose a random crossover point\n",
    "    crossover_point = random.randint(0, chromosome_length - 1)\n",
    "    \n",
    "    # Create the offspring\n",
    "    offspring = parent_1[:crossover_point] + parent_2[crossover_point:]\n",
    "    \n",
    "    return offspring\n",
    "\n",
    "# Define the mutation function\n",
    "def mutate(chromosome):\n",
    "    # Mutate each gene in the chromosome\n",
    "    for i in range(chromosome_length):\n",
    "        if random.random() < mutation_rate:\n",
    "            chromosome[i] = 1 - chromosome[i]\n",
    "    \n",
    "    return chromosome\n",
    "\n",
    "# Create the initial population\n",
    "population = []\n",
    "for i in range(population_size):\n",
    "    chromosome = [random.randint(0, 1) for j in range(chromosome_length)]\n",
    "    population.append(chromosome)\n",
    "\n",
    "# Evolve the population for a number of generations\n",
    "for generation in range(generations):\n",
    "    # Evaluate the fitness of each chromosome in the population\n",
    "    fitness_values = [fitness(chromosome) for chromosome in population]\n",
    "    \n",
    "    # Select the parents for crossover\n",
    "    parent_1 = population[fitness_values.index(max(fitness_values))]\n",
    "    parent_2 = population[fitness_values.index(max(fitness_values))]\n",
    "    \n",
    "    # Create the new population through crossover and mutation\n",
    "    new_population = []\n",
    "    for i in range(population_size):\n",
    "        offspring = crossover(parent_1, parent_2)\n",
    "        offspring = mutate(offspring)\n",
    "        new_population.append(offspring)\n",
    "    \n",
    "    # Replace the old population with the new population\n",
    "    population = new_population\n",
    "\n",
    "# Print the fittest chromosome in the final population\n",
    "fitness_values = [fitness(chromosome) for chromosome in population]\n",
    "fittest_chromosome = population[fitness_values.index(max(fitness_values))]\n",
    "print(\"Fittest chromosome:\", fittest_chromosome)\n"
   ]
  },
  {
   "cell_type": "code",
   "execution_count": null,
   "id": "e9993cc0",
   "metadata": {},
   "outputs": [],
   "source": []
  }
 ],
 "metadata": {
  "kernelspec": {
   "display_name": "Python 3 (ipykernel)",
   "language": "python",
   "name": "python3"
  },
  "language_info": {
   "codemirror_mode": {
    "name": "ipython",
    "version": 3
   },
   "file_extension": ".py",
   "mimetype": "text/x-python",
   "name": "python",
   "nbconvert_exporter": "python",
   "pygments_lexer": "ipython3",
   "version": "3.9.12"
  }
 },
 "nbformat": 4,
 "nbformat_minor": 5
}
