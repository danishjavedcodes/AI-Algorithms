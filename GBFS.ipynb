{
 "cells": [
  {
   "cell_type": "code",
   "execution_count": 57,
   "id": "86c70b8a",
   "metadata": {},
   "outputs": [],
   "source": [
    "def second_index(x):\n",
    "    return x[1]"
   ]
  },
  {
   "cell_type": "code",
   "execution_count": 58,
   "id": "6ba70365",
   "metadata": {},
   "outputs": [],
   "source": [
    "def build_dict(li):\n",
    "    di  = {}\n",
    "\n",
    "    for i in li:\n",
    "        name = i[0]\n",
    "        cost = i[1]\n",
    "        di[name] = cost\n",
    "    return di"
   ]
  },
  {
   "cell_type": "code",
   "execution_count": 59,
   "id": "cccc365c",
   "metadata": {},
   "outputs": [],
   "source": [
    "d = {\n",
    "         'Arad': [('Sibiu', 140), ('Timisoara', 118), ('Zerind', 75)],\n",
    "         'Sibiu': [('Arad', 140), ('Oradea', 151), ('Fagaras', 99), ('Rimnicu', 80)],\n",
    "         'Timisoara': [('Arad', 118), ('Lugoj', 111)],\n",
    "         'Zerind': [('Arad', 75), ('Oradea', 71)],\n",
    "         'Oradea': [('Zerind', 71), ('Sibiu', 151)],\n",
    "         'Fagaras': [('Sibiu', 99), ('Bucharest', 211)],\n",
    "         'Rimnicu': [('Sibiu', 80), ('Craivo', 146), ('Pitesti', 97)],\n",
    "         'Lugoj': [('Timisoara', 111), ('Mehadia', 70)],\n",
    "         'Bucharest': [('Giurgiu', 90), ('Urziceni', 85), ('Pitesti', 101), ('Fagaras', 211)],\n",
    "         'Craivo': [('Dobreta', 120), ('Pitesti', 138), ('Rimnicu', 146)],\n",
    "         'Pitesti': [('Rimnicu', 97), ('Craivo', 138), ('Bucharest', 101)],\n",
    "         'Mehadia': [('Dobreta', 75), ('Lugoj', 70)],\n",
    "         'Giurgiu': [('Bucharest', 90)],\n",
    "         'Urziceni': [('Bucharest', 85), ('Hirsova', 98), ('Vaslui', 142)],\n",
    "         'Dobreta': [('Mehadia', 75), ('Craivo', 120)],\n",
    "         'Hirsova' : [('Eforie', 86), ('Urziceni', 98)],\n",
    "         'Vaslui' : [('Urziceni', 142), ('Lasi', 92)],\n",
    "         'Eforie' : [('Hirsova', 86)],\n",
    "         'Lasi': [('Neamt', 87), ('Vaslui', 92)],\n",
    "         'Neamt': [('Lasi', 87)],\n",
    "}\n"
   ]
  },
  {
   "cell_type": "code",
   "execution_count": 60,
   "id": "4f9aea13",
   "metadata": {},
   "outputs": [],
   "source": [
    "huristics = {\n",
    "        \n",
    "         'Arad': 366,\n",
    "         'Sibiu':  253,\n",
    "         'Timisoara': 329,\n",
    "         'Zerind': 374,\n",
    "         'Oradea': 380,\n",
    "         'Fagaras': 178,\n",
    "         'Rimnicu': 193,\n",
    "         'Lugoj': 244,\n",
    "         'Bucharest': 0,\n",
    "         'Craivo': 160,\n",
    "         'Pitesti': 98,\n",
    "         'Mehadia': 241,\n",
    "         'Giurgiu': 77,\n",
    "         'Urziceni': 80,\n",
    "         'Dobreta': 242,\n",
    "         'Hirsova' : 151,\n",
    "         'Vaslui' : 199,\n",
    "         'Eforie' : 161,\n",
    "         'Lasi': 226,\n",
    "         'Neamt': 234\n",
    "}"
   ]
  },
  {
   "cell_type": "code",
   "execution_count": 68,
   "id": "a6917001",
   "metadata": {},
   "outputs": [],
   "source": [
    "def GBFS(start, goal):\n",
    "    q = []\n",
    "    start_val = huristics[start]\n",
    "    q.append((start, start_val))\n",
    "    explored = []\n",
    "    expanded = []\n",
    "    while len(q) > 0:\n",
    "        node = q.pop(0)\n",
    "        if node[0] not in explored:\n",
    "            explored.append(node[0])\n",
    "            \n",
    "        if node[0] == goal:\n",
    "            print('results: ', explored, ' ', expanded, ' ', len(expanded))\n",
    "            return\n",
    "        \n",
    "        child = d[node[0]]\n",
    "        for i in child:\n",
    "            n_key = i[0]\n",
    "            n_val = huristics[n_key]\n",
    "            n_tuple = n_key, n_val \n",
    "            if i[0] not in explored and i[0] not in build_dict(q):\n",
    "                q.append(n_tuple)\n",
    "        expanded.append(node[0])\n",
    "        q = sorted(q, key = second_index)\n",
    "    return explored, expanded,  len(expanded)\n",
    "    "
   ]
  },
  {
   "cell_type": "code",
   "execution_count": 69,
   "id": "05aaae87",
   "metadata": {},
   "outputs": [
    {
     "name": "stdout",
     "output_type": "stream",
     "text": [
      "results:  ['Arad', 'Sibiu', 'Fagaras', 'Bucharest', 'Giurgiu']   ['Arad', 'Sibiu', 'Fagaras', 'Bucharest']   4\n"
     ]
    }
   ],
   "source": [
    "GBFS('Arad','Giurgiu')"
   ]
  },
  {
   "cell_type": "code",
   "execution_count": null,
   "id": "d6060cc9",
   "metadata": {},
   "outputs": [],
   "source": []
  }
 ],
 "metadata": {
  "kernelspec": {
   "display_name": "Python 3 (ipykernel)",
   "language": "python",
   "name": "python3"
  },
  "language_info": {
   "codemirror_mode": {
    "name": "ipython",
    "version": 3
   },
   "file_extension": ".py",
   "mimetype": "text/x-python",
   "name": "python",
   "nbconvert_exporter": "python",
   "pygments_lexer": "ipython3",
   "version": "3.9.12"
  }
 },
 "nbformat": 4,
 "nbformat_minor": 5
}
