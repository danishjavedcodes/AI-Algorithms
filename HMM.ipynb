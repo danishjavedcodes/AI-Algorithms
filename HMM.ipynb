{
 "cells": [
  {
   "cell_type": "code",
   "execution_count": null,
   "metadata": {},
   "outputs": [],
   "source": []
  },
  {
   "cell_type": "code",
   "execution_count": 356,
   "metadata": {},
   "outputs": [],
   "source": [
    "mood_mood = {'Good' : {'Good': 0.2, 'Bad' : 0.5, 'Neutral' : 0.3},\n",
    "            'Bad': {'Good': 0.0, 'Bad' : 0.8, 'Neutral' : 0.2},\n",
    "            'Nutral': {'Good': 0.2, 'Bad' : 0.6, 'Neutral' : 0.2}}\n",
    "\n",
    "mood_assignment = {'A': {'Good': 0.7, 'Bad': 0.0, 'Neutral': 0.3},\n",
    "                     'B': {'Good': 0.2, 'Bad': 0.1, 'Neutral': 0.4},\n",
    "                     'C': {'Good': 0.1, 'Bad': 0.9, 'Neutral': 0.3}}\n",
    "\n",
    "day_ass = {'Mon': 'A', 'Tue': 'C', 'Wed': 'B', 'Thu': 'A', 'Fri': 'C'}\n",
    "\n",
    "\n",
    "import pandas as pd\n",
    "p_mood_mood = pd.DataFrame(mood_mood)\n",
    "P_mood_assignment = pd.DataFrame(mood_assignment)\n"
   ]
  },
  {
   "cell_type": "code",
   "execution_count": 357,
   "metadata": {},
   "outputs": [
    {
     "name": "stdout",
     "output_type": "stream",
     "text": [
      "         Good  Bad  Neutral    A    B    C\n",
      "Good      0.2  0.5      0.3  0.7  0.2  0.1\n",
      "Bad       0.0  0.8      0.2  0.0  0.1  0.9\n",
      "Neutral   0.2  0.6      0.2  0.3  0.4  0.3\n"
     ]
    }
   ],
   "source": [
    "data_ = {'Good' :  {'Good': 0.2, 'Bad' : 0.0, 'Neutral' : 0.2},\n",
    "         'Bad':    {'Good': 0.5, 'Bad' : 0.8, 'Neutral' : 0.6},\n",
    "         'Neutral': {'Good': 0.3, 'Bad' : 0.2, 'Neutral' : 0.2},\n",
    "        'A': {'Good': 0.7, 'Bad': 0.0, 'Neutral': 0.3},\n",
    "        'B': {'Good': 0.2, 'Bad': 0.1, 'Neutral': 0.4},\n",
    "        'C': {'Good': 0.1, 'Bad': 0.9, 'Neutral': 0.3}}\n",
    "\n",
    "data = pd.DataFrame(data_)\n",
    "print(data)"
   ]
  },
  {
   "attachments": {},
   "cell_type": "markdown",
   "metadata": {},
   "source": [
    "**Solution Question number 1**\n",
    "Transition probabilities"
   ]
  },
  {
   "cell_type": "code",
   "execution_count": 358,
   "metadata": {},
   "outputs": [
    {
     "name": "stdout",
     "output_type": "stream",
     "text": [
      "mood cannot obserbable so mood states are hidden states and assignments on based on days are visible states\n",
      "Transition Probabilities\n",
      "         Good  Bad  Nutral\n",
      "Good      0.2  0.0     0.2\n",
      "Bad       0.5  0.8     0.6\n",
      "Neutral   0.3  0.2     0.2\n"
     ]
    }
   ],
   "source": [
    "print('mood cannot obserbable so mood states are hidden states and assignments on based on days are visible states')\n",
    "print('Transition Probabilities')\n",
    "print(p_mood_mood)"
   ]
  },
  {
   "attachments": {},
   "cell_type": "markdown",
   "metadata": {},
   "source": [
    "**Solution Question number 2**"
   ]
  },
  {
   "cell_type": "code",
   "execution_count": 359,
   "metadata": {},
   "outputs": [],
   "source": [
    "import pandas as pd\n",
    "data_ = {'Good' :  {'Good': 0.2, 'Bad' : 0.0, 'Neutral' : 0.2},\n",
    "         'Bad':    {'Good': 0.5, 'Bad' : 0.8, 'Neutral' : 0.6},\n",
    "         'Neutral': {'Good': 0.3, 'Bad' : 0.2, 'Neutral' : 0.2},\n",
    "        'A': {'Good': 0.7, 'Bad': 0.0, 'Neutral': 0.3},\n",
    "        'B': {'Good': 0.2, 'Bad': 0.1, 'Neutral': 0.4},\n",
    "        'C': {'Good': 0.1, 'Bad': 0.9, 'Neutral': 0.3}}\n",
    "\n",
    "data = pd.DataFrame(data_)\n",
    "moods = ['Good', 'Bad', 'Neutral']\n",
    "states = ['A', 'C', 'B', 'A ', 'C ']\n",
    "s = ['A', 'C', 'B', 'A', 'C']\n",
    "assignments = ['A', 'B', 'C']\n",
    "initial_prob = [1,0,0]\n",
    "\n",
    "solution = {'A':{'Good': 0.0, 'Bad': 0.0, 'Neutral': 0.0},\n",
    "                'C':{'Good': 0.0, 'Bad': 0.0, 'Neutral': 0.0},\n",
    "                'B':{'Good': 0.0, 'Bad': 0.0, 'Neutral': 0.0},\n",
    "                'A ': {'Good': 0.0, 'Bad': 0.0, 'Neutral': 0.0},\n",
    "                'C ': {'Good': 0.0, 'Bad': 0.0, 'Neutral': 0.0}}\n",
    "li = []\n",
    "solutions = pd.DataFrame(solution)"
   ]
  },
  {
   "cell_type": "code",
   "execution_count": 360,
   "metadata": {},
   "outputs": [
    {
     "data": {
      "text/html": [
       "<div>\n",
       "<style scoped>\n",
       "    .dataframe tbody tr th:only-of-type {\n",
       "        vertical-align: middle;\n",
       "    }\n",
       "\n",
       "    .dataframe tbody tr th {\n",
       "        vertical-align: top;\n",
       "    }\n",
       "\n",
       "    .dataframe thead th {\n",
       "        text-align: right;\n",
       "    }\n",
       "</style>\n",
       "<table border=\"1\" class=\"dataframe\">\n",
       "  <thead>\n",
       "    <tr style=\"text-align: right;\">\n",
       "      <th></th>\n",
       "      <th>A</th>\n",
       "      <th>C</th>\n",
       "      <th>B</th>\n",
       "      <th>A</th>\n",
       "      <th>C</th>\n",
       "    </tr>\n",
       "  </thead>\n",
       "  <tbody>\n",
       "    <tr>\n",
       "      <th>Good</th>\n",
       "      <td>0.14</td>\n",
       "      <td>0.0046</td>\n",
       "      <td>0.000904</td>\n",
       "      <td>0.001655</td>\n",
       "      <td>0.000060</td>\n",
       "    </tr>\n",
       "    <tr>\n",
       "      <th>Bad</th>\n",
       "      <td>0.00</td>\n",
       "      <td>0.1116</td>\n",
       "      <td>0.010238</td>\n",
       "      <td>0.000000</td>\n",
       "      <td>0.001474</td>\n",
       "    </tr>\n",
       "    <tr>\n",
       "      <th>Neutral</th>\n",
       "      <td>0.09</td>\n",
       "      <td>0.0180</td>\n",
       "      <td>0.010920</td>\n",
       "      <td>0.001351</td>\n",
       "      <td>0.000230</td>\n",
       "    </tr>\n",
       "  </tbody>\n",
       "</table>\n",
       "</div>"
      ],
      "text/plain": [
       "            A       C         B        A         C \n",
       "Good     0.14  0.0046  0.000904  0.001655  0.000060\n",
       "Bad      0.00  0.1116  0.010238  0.000000  0.001474\n",
       "Neutral  0.09  0.0180  0.010920  0.001351  0.000230"
      ]
     },
     "execution_count": 360,
     "metadata": {},
     "output_type": "execute_result"
    }
   ],
   "source": [
    "for i in range (0, 3):\n",
    "    solutions[states[0]][moods[i]] = data[moods[i]][moods[0]] * data[s[0]][moods[i]]\n",
    "    li.append(solutions[states[0]][moods[i]])\n",
    "e = 0\n",
    "for a in range (1,5):\n",
    "    for i in range (0,3):\n",
    "        for j in range(0,3):\n",
    "            e += li[j] * data[moods[i]][moods[j]] * data[s[a]][moods[i]]\n",
    "        solutions[states[a]][moods[i]] = e\n",
    "        li.append(e)\n",
    "        e = 0\n",
    "    li = li[3:]\n",
    "solutions"
   ]
  },
  {
   "cell_type": "code",
   "execution_count": 366,
   "metadata": {},
   "outputs": [
    {
     "data": {
      "text/plain": [
       "0.0014743656000000003"
      ]
     },
     "execution_count": 366,
     "metadata": {},
     "output_type": "execute_result"
    }
   ],
   "source": [
    "solutions['C '].max()"
   ]
  },
  {
   "cell_type": "code",
   "execution_count": null,
   "metadata": {},
   "outputs": [],
   "source": []
  }
 ],
 "metadata": {
  "kernelspec": {
   "display_name": "Python 3",
   "language": "python",
   "name": "python3"
  },
  "language_info": {
   "codemirror_mode": {
    "name": "ipython",
    "version": 3
   },
   "file_extension": ".py",
   "mimetype": "text/x-python",
   "name": "python",
   "nbconvert_exporter": "python",
   "pygments_lexer": "ipython3",
   "version": "3.10.4"
  },
  "orig_nbformat": 4
 },
 "nbformat": 4,
 "nbformat_minor": 2
}
