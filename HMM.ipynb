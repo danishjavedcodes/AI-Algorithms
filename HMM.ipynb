{
 "cells": [
  {
   "cell_type": "code",
   "execution_count": 109,
   "metadata": {},
   "outputs": [],
   "source": [
    "x = ['happy', 'nutral', 'bad'] #states\n",
    "o = ['A', 'B', 'C'] #assignments"
   ]
  },
  {
   "cell_type": "code",
   "execution_count": 110,
   "metadata": {},
   "outputs": [
    {
     "name": "stdout",
     "output_type": "stream",
     "text": [
      "        Good  Bad  Nutral\n",
      "Good     0.2  0.0     0.2\n",
      "Bad      0.5  0.8     0.6\n",
      "Nutral   0.3  0.2     0.2\n",
      "          A    B    C\n",
      "Good    0.7  0.2  0.1\n",
      "Bad     0.0  0.1  0.9\n",
      "Nutral  0.3  0.4  0.3\n"
     ]
    }
   ],
   "source": [
    "mood_mood = {'Good' : {'Good': 0.2, 'Bad' : 0.5, 'Nutral' : 0.3},\n",
    "            'Bad': {'Good': 0.0, 'Bad' : 0.8, 'Nutral' : 0.2},\n",
    "            'Nutral': {'Good': 0.2, 'Bad' : 0.6, 'Nutral' : 0.2}}\n",
    "\n",
    "mood_assignment = {'A': {'Good': 0.7, 'Bad': 0.0, 'Nutral': 0.3},\n",
    "                     'B': {'Good': 0.2, 'Bad': 0.1, 'Nutral': 0.4},\n",
    "                     'C': {'Good': 0.1, 'Bad': 0.9, 'Nutral': 0.3}}\n",
    "\n",
    "day_ass = {'Mon': 'A', 'Tue': 'C', 'Wed': 'B', 'Thu': 'A', 'Fri': 'C'}\n",
    "\n",
    "\n",
    "import pandas as pd\n",
    "p_mood_mood = pd.DataFrame(mood_mood)\n",
    "\n",
    "# Print DataFrame\n",
    "print(p_mood_mood)\n",
    "P_mood_assignment = pd.DataFrame(mood_assignment)\n",
    "\n",
    "# Print DataFrame\n",
    "print(P_mood_assignment)"
   ]
  },
  {
   "cell_type": "code",
   "execution_count": null,
   "metadata": {},
   "outputs": [],
   "source": []
  },
  {
   "attachments": {},
   "cell_type": "markdown",
   "metadata": {},
   "source": [
    "**Solution Question number 1**\n",
    "Transition probabilities"
   ]
  },
  {
   "cell_type": "code",
   "execution_count": 111,
   "metadata": {},
   "outputs": [
    {
     "name": "stdout",
     "output_type": "stream",
     "text": [
      "mood cannot obserbable so mood states are hidden states and assignments on based on days are visible states\n",
      "Transition Probabilities\n",
      "        Good  Bad  Nutral\n",
      "Good     0.2  0.0     0.2\n",
      "Bad      0.5  0.8     0.6\n",
      "Nutral   0.3  0.2     0.2\n"
     ]
    }
   ],
   "source": [
    "print('mood cannot obserbable so mood states are hidden states and assignments on based on days are visible states')\n",
    "print('Transition Probabilities')\n",
    "print(p_mood_mood)"
   ]
  },
  {
   "attachments": {},
   "cell_type": "markdown",
   "metadata": {},
   "source": [
    "**Solution Question number 2**"
   ]
  },
  {
   "cell_type": "code",
   "execution_count": null,
   "metadata": {},
   "outputs": [],
   "source": []
  },
  {
   "cell_type": "code",
   "execution_count": 112,
   "metadata": {},
   "outputs": [
    {
     "data": {
      "text/html": [
       "<div>\n",
       "<style scoped>\n",
       "    .dataframe tbody tr th:only-of-type {\n",
       "        vertical-align: middle;\n",
       "    }\n",
       "\n",
       "    .dataframe tbody tr th {\n",
       "        vertical-align: top;\n",
       "    }\n",
       "\n",
       "    .dataframe thead th {\n",
       "        text-align: right;\n",
       "    }\n",
       "</style>\n",
       "<table border=\"1\" class=\"dataframe\">\n",
       "  <thead>\n",
       "    <tr style=\"text-align: right;\">\n",
       "      <th></th>\n",
       "      <th>Good</th>\n",
       "      <th>Bad</th>\n",
       "      <th>Nutral</th>\n",
       "    </tr>\n",
       "  </thead>\n",
       "  <tbody>\n",
       "    <tr>\n",
       "      <th>Good</th>\n",
       "      <td>0.2</td>\n",
       "      <td>0.0</td>\n",
       "      <td>0.2</td>\n",
       "    </tr>\n",
       "    <tr>\n",
       "      <th>Bad</th>\n",
       "      <td>0.5</td>\n",
       "      <td>0.8</td>\n",
       "      <td>0.6</td>\n",
       "    </tr>\n",
       "    <tr>\n",
       "      <th>Nutral</th>\n",
       "      <td>0.3</td>\n",
       "      <td>0.2</td>\n",
       "      <td>0.2</td>\n",
       "    </tr>\n",
       "  </tbody>\n",
       "</table>\n",
       "</div>"
      ],
      "text/plain": [
       "        Good  Bad  Nutral\n",
       "Good     0.2  0.0     0.2\n",
       "Bad      0.5  0.8     0.6\n",
       "Nutral   0.3  0.2     0.2"
      ]
     },
     "execution_count": 112,
     "metadata": {},
     "output_type": "execute_result"
    }
   ],
   "source": []
  },
  {
   "cell_type": "code",
   "execution_count": 113,
   "metadata": {},
   "outputs": [
    {
     "data": {
      "text/html": [
       "<div>\n",
       "<style scoped>\n",
       "    .dataframe tbody tr th:only-of-type {\n",
       "        vertical-align: middle;\n",
       "    }\n",
       "\n",
       "    .dataframe tbody tr th {\n",
       "        vertical-align: top;\n",
       "    }\n",
       "\n",
       "    .dataframe thead th {\n",
       "        text-align: right;\n",
       "    }\n",
       "</style>\n",
       "<table border=\"1\" class=\"dataframe\">\n",
       "  <thead>\n",
       "    <tr style=\"text-align: right;\">\n",
       "      <th></th>\n",
       "      <th>A</th>\n",
       "      <th>B</th>\n",
       "      <th>C</th>\n",
       "    </tr>\n",
       "  </thead>\n",
       "  <tbody>\n",
       "    <tr>\n",
       "      <th>Good</th>\n",
       "      <td>0.7</td>\n",
       "      <td>0.2</td>\n",
       "      <td>0.1</td>\n",
       "    </tr>\n",
       "    <tr>\n",
       "      <th>Bad</th>\n",
       "      <td>0.0</td>\n",
       "      <td>0.1</td>\n",
       "      <td>0.9</td>\n",
       "    </tr>\n",
       "    <tr>\n",
       "      <th>Nutral</th>\n",
       "      <td>0.3</td>\n",
       "      <td>0.4</td>\n",
       "      <td>0.3</td>\n",
       "    </tr>\n",
       "  </tbody>\n",
       "</table>\n",
       "</div>"
      ],
      "text/plain": [
       "          A    B    C\n",
       "Good    0.7  0.2  0.1\n",
       "Bad     0.0  0.1  0.9\n",
       "Nutral  0.3  0.4  0.3"
      ]
     },
     "execution_count": 113,
     "metadata": {},
     "output_type": "execute_result"
    }
   ],
   "source": []
  },
  {
   "cell_type": "code",
   "execution_count": 153,
   "metadata": {},
   "outputs": [],
   "source": [
    "states= ['Good', 'Bad', 'Nutral']\n",
    "initial_probality = {'Good': 1, 'Bad': 0, 'Nutral': 0}\n",
    "\n",
    "solution = {'A':{'Good': 0, 'Bad': 0, 'Nutral': 0},'B':{'Good': 0, 'Bad': 0, 'Nutral': 0},'C':{'Good': 0, 'Bad': 0, 'Nutral': 0},'A1': {'Good': 0, 'Bad': 0, 'Nutral': 0},'C1':{'Good': 0, 'Bad': 0, 'Nutral': 0}}\n",
    "assignments = {0:'A', 1:'B', 2:'C'}"
   ]
  },
  {
   "cell_type": "code",
   "execution_count": 165,
   "metadata": {},
   "outputs": [
    {
     "data": {
      "text/plain": [
       "0.1"
      ]
     },
     "execution_count": 165,
     "metadata": {},
     "output_type": "execute_result"
    }
   ],
   "source": [
    "P_mood_assignment['A'][states[0]]\n"
   ]
  },
  {
   "cell_type": "code",
   "execution_count": 187,
   "metadata": {},
   "outputs": [
    {
     "name": "stdout",
     "output_type": "stream",
     "text": [
      "        Good  Bad  Nutral\n",
      "Good     0.2  0.0     0.2\n",
      "Bad      0.5  0.8     0.6\n",
      "Nutral   0.3  0.2     0.2\n",
      "          A    B    C\n",
      "Good    0.7  0.2  0.1\n",
      "Bad     0.0  0.1  0.9\n",
      "Nutral  0.3  0.4  0.3\n"
     ]
    }
   ],
   "source": [
    "print(p_mood_mood)\n",
    "\n",
    "print(P_mood_assignment)"
   ]
  },
  {
   "cell_type": "code",
   "execution_count": 154,
   "metadata": {},
   "outputs": [],
   "source": [
    "for i in range (0, 3):\n",
    "    solution['A'][states[i]]= P_mood_assignment['A'][states[i]]"
   ]
  },
  {
   "cell_type": "code",
   "execution_count": null,
   "metadata": {},
   "outputs": [],
   "source": [
    "for i in range (0, 3):\n",
    "    "
   ]
  },
  {
   "cell_type": "code",
   "execution_count": 175,
   "metadata": {},
   "outputs": [
    {
     "data": {
      "text/plain": [
       "0.013999999999999999"
      ]
     },
     "execution_count": 175,
     "metadata": {},
     "output_type": "execute_result"
    }
   ],
   "source": [
    "\n",
    "solution['A'][states[0]] * p_mood_mood[states[0]][states[0]] * P_mood_assignment[assignments[2]][states[0]] + \n",
    "solution['A'][states[1]] * p_mood_mood[states[1]][states[0]] * P_mood_assignment[assignments[2]][states[0]] +\n",
    "solution['A'][states[2]] * p_mood_mood[states[2]][states[0]] * P_mood_assignment[assignments[2]][states[0]] +"
   ]
  },
  {
   "cell_type": "code",
   "execution_count": null,
   "metadata": {},
   "outputs": [],
   "source": [
    "solution['A'][states[0]] * p_mood_mood[states[0]][states[0]] * P_mood_assignment[assignments[2]][states[0]] + \n",
    "solution['A'][states[1]] * p_mood_mood[states[1]][states[0]] * P_mood_assignment[assignments[2]][states[0]] +\n",
    "solution['A'][states[2]] * p_mood_mood[states[2]][states[0]] * P_mood_assignment[assignments[2]][states[0]] +"
   ]
  },
  {
   "cell_type": "code",
   "execution_count": 186,
   "metadata": {},
   "outputs": [
    {
     "data": {
      "text/plain": [
       "0.2"
      ]
     },
     "execution_count": 186,
     "metadata": {},
     "output_type": "execute_result"
    }
   ],
   "source": [
    "p_mood_mood[states[2]][states[0]]"
   ]
  },
  {
   "cell_type": "code",
   "execution_count": 184,
   "metadata": {},
   "outputs": [
    {
     "data": {
      "text/plain": [
       "0.9"
      ]
     },
     "execution_count": 184,
     "metadata": {},
     "output_type": "execute_result"
    }
   ],
   "source": [
    "P_mood_assignment[assignments[2]][states[1]]"
   ]
  },
  {
   "cell_type": "code",
   "execution_count": 156,
   "metadata": {},
   "outputs": [
    {
     "name": "stdout",
     "output_type": "stream",
     "text": [
      "          A  B  C  A1  C1\n",
      "Good    0.7  0  0   0   0\n",
      "Bad     0.0  0  0   0   0\n",
      "Nutral  0.3  0  0   0   0\n"
     ]
    }
   ],
   "source": [
    "sol = pd.DataFrame(solution)\n",
    "\n",
    "# Print DataFrame\n",
    "print(sol)"
   ]
  },
  {
   "cell_type": "code",
   "execution_count": null,
   "metadata": {},
   "outputs": [],
   "source": [
    "for i in range (0, 3):\n",
    "    solution['C'][states[i]]= P_mood_assignment['A'][states[i]]"
   ]
  }
 ],
 "metadata": {
  "kernelspec": {
   "display_name": "Python 3",
   "language": "python",
   "name": "python3"
  },
  "language_info": {
   "codemirror_mode": {
    "name": "ipython",
    "version": 3
   },
   "file_extension": ".py",
   "mimetype": "text/x-python",
   "name": "python",
   "nbconvert_exporter": "python",
   "pygments_lexer": "ipython3",
   "version": "3.10.4"
  },
  "orig_nbformat": 4
 },
 "nbformat": 4,
 "nbformat_minor": 2
}
