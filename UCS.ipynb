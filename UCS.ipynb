{
 "cells": [
  {
   "cell_type": "code",
   "execution_count": 1,
   "id": "2397690b",
   "metadata": {},
   "outputs": [],
   "source": [
    "def path_cost(path):\n",
    "    total = 0\n",
    "    for node, cost in path:\n",
    "        total = total + cost\n",
    "    return total, path[-1], [0]"
   ]
  },
  {
   "cell_type": "code",
   "execution_count": 2,
   "id": "c9b86d17",
   "metadata": {},
   "outputs": [],
   "source": [
    "def ucs(graph, start, goal):\n",
    "    visited = []\n",
    "    queue = [[]]\n",
    "    queue[0].append((start, 0))\n",
    "    while queue:\n",
    "        queue.sort(key = path_cost)\n",
    "        path = queue.pop(0)\n",
    "        last_node = path[-1][0]\n",
    "        if last_node in visited:\n",
    "            continue\n",
    "        if last_node == goal:\n",
    "            return path\n",
    "        else:\n",
    "            for adj, cost in graph[last_node]:\n",
    "                new_path = path.copy()\n",
    "                new_path.append((adj, cost))\n",
    "                queue.append(new_path)"
   ]
  },
  {
   "cell_type": "code",
   "execution_count": 3,
   "id": "afd394e6",
   "metadata": {},
   "outputs": [],
   "source": [
    "graph = {\n",
    "    'A': [('B', 2), ('C', 3)],\n",
    "    'B': [('A', 2), ('D', 4)],\n",
    "    'C': [('A', 3), ('D', 1)],\n",
    "    'D': [('B', 4), ('C', 1), ('E', 5)],\n",
    "    'E': [('D', 5)]\n",
    "}\n"
   ]
  },
  {
   "cell_type": "code",
   "execution_count": 6,
   "id": "71d87cc4",
   "metadata": {},
   "outputs": [
    {
     "data": {
      "text/plain": [
       "[('A', 0), ('C', 3), ('D', 1), ('E', 5)]"
      ]
     },
     "execution_count": 6,
     "metadata": {},
     "output_type": "execute_result"
    }
   ],
   "source": [
    "ucs(graph, 'A', 'E')"
   ]
  },
  {
   "cell_type": "code",
   "execution_count": 7,
   "id": "e3ec9b94",
   "metadata": {},
   "outputs": [
    {
     "data": {
      "text/plain": [
       "(9, ('E', 5), [0])"
      ]
     },
     "execution_count": 7,
     "metadata": {},
     "output_type": "execute_result"
    }
   ],
   "source": [
    "path_cost([('A', 0), ('C', 3), ('D', 1), ('E', 5)])"
   ]
  },
  {
   "cell_type": "code",
   "execution_count": null,
   "id": "22a59126",
   "metadata": {},
   "outputs": [],
   "source": []
  }
 ],
 "metadata": {
  "kernelspec": {
   "display_name": "Python 3 (ipykernel)",
   "language": "python",
   "name": "python3"
  },
  "language_info": {
   "codemirror_mode": {
    "name": "ipython",
    "version": 3
   },
   "file_extension": ".py",
   "mimetype": "text/x-python",
   "name": "python",
   "nbconvert_exporter": "python",
   "pygments_lexer": "ipython3",
   "version": "3.9.12"
  }
 },
 "nbformat": 4,
 "nbformat_minor": 5
}
