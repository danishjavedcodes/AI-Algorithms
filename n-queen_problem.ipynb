{
 "cells": [
  {
   "cell_type": "code",
   "execution_count": 5,
   "id": "5de140a9",
   "metadata": {},
   "outputs": [],
   "source": [
    "def is_safe(board, row, col, n):\n",
    "    # check if the current position is safe\n",
    "    # check column\n",
    "    for i in range(row):\n",
    "        if board[i][col] == 1:\n",
    "            return False\n",
    "    # check diagonal (top-left to bottom-right)\n",
    "    i, j = row-1, col-1\n",
    "    while i >= 0 and j >= 0:\n",
    "        if board[i][j] == 1:\n",
    "            return False\n",
    "        i, j = i-1, j-1\n",
    "    # check diagonal (top-right to bottom-left)\n",
    "    i, j = row-1, col+1\n",
    "    while i >= 0 and j < n:\n",
    "        if board[i][j] == 1:\n",
    "            return False\n",
    "        i, j = i-1, j+1\n",
    "    return True\n",
    "\n",
    "\n",
    "def solve_n_queens(board, row, n):\n",
    "    # base case: all queens are placed\n",
    "    if row == n:\n",
    "        return True\n",
    "    # try placing the queen in each column of the current row\n",
    "    for col in range(n):\n",
    "        if is_safe(board, row, col, n):\n",
    "            board[row][col] = 1\n",
    "            if solve_n_queens(board, row + 1, n):\n",
    "                return True\n",
    "            board[row][col] = 0\n",
    "    # if no safe position is found in the current row, backtrack\n",
    "    return False\n",
    "\n",
    "def n_queens(n):\n",
    "    # create an empty n x n board\n",
    "    board = [[0] * n for _ in range(n)]\n",
    "    if not solve_n_queens(board, 0, n):\n",
    "        print(\"No solution exists.\")\n",
    "        return\n",
    "    # print the solution\n",
    "    for row in board:\n",
    "        print(row)\n"
   ]
  },
  {
   "cell_type": "code",
   "execution_count": 7,
   "id": "7d1bd2c9",
   "metadata": {},
   "outputs": [
    {
     "name": "stdout",
     "output_type": "stream",
     "text": [
      "[0, 1, 0, 0]\n",
      "[0, 0, 0, 1]\n",
      "[1, 0, 0, 0]\n",
      "[0, 0, 1, 0]\n"
     ]
    }
   ],
   "source": [
    "n_queens(4)"
   ]
  },
  {
   "cell_type": "code",
   "execution_count": 8,
   "id": "c0d83fad",
   "metadata": {},
   "outputs": [
    {
     "name": "stdout",
     "output_type": "stream",
     "text": [
      "[1, 0, 0, 0, 0, 0, 0, 0]\n",
      "[0, 0, 0, 0, 1, 0, 0, 0]\n",
      "[0, 0, 0, 0, 0, 0, 0, 1]\n",
      "[0, 0, 0, 0, 0, 1, 0, 0]\n",
      "[0, 0, 1, 0, 0, 0, 0, 0]\n",
      "[0, 0, 0, 0, 0, 0, 1, 0]\n",
      "[0, 1, 0, 0, 0, 0, 0, 0]\n",
      "[0, 0, 0, 1, 0, 0, 0, 0]\n"
     ]
    }
   ],
   "source": [
    "n_queens(8)"
   ]
  },
  {
   "cell_type": "code",
   "execution_count": null,
   "id": "85e28e15",
   "metadata": {},
   "outputs": [],
   "source": []
  }
 ],
 "metadata": {
  "kernelspec": {
   "display_name": "Python 3 (ipykernel)",
   "language": "python",
   "name": "python3"
  },
  "language_info": {
   "codemirror_mode": {
    "name": "ipython",
    "version": 3
   },
   "file_extension": ".py",
   "mimetype": "text/x-python",
   "name": "python",
   "nbconvert_exporter": "python",
   "pygments_lexer": "ipython3",
   "version": "3.9.12"
  }
 },
 "nbformat": 4,
 "nbformat_minor": 5
}
